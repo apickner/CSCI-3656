{
 "cells": [
  {
   "cell_type": "markdown",
   "metadata": {},
   "source": [
    "### HW 7\n",
    "---\n",
    "\n",
    "**Andrew Pickner**\n",
    "\n",
    "**I worked by myself on this assignment.**\n",
    "   \n",
    "---"
   ]
  },
  {
   "cell_type": "code",
   "execution_count": 1,
   "metadata": {},
   "outputs": [],
   "source": [
    "'''GLOBAL IMPORTS'''\n",
    "\n",
    "import numpy as np\n",
    "\n",
    "%matplotlib inline\n",
    "import matplotlib.pyplot as plt\n",
    "plt.style.use('seaborn-whitegrid')"
   ]
  },
  {
   "cell_type": "markdown",
   "metadata": {},
   "source": [
    "---\n",
    "\n",
    "$f_{\\theta}(x)=\\frac{1}{1+e^{-\\theta x}},\\ x \\in [-5, 5].$"
   ]
  },
  {
   "cell_type": "code",
   "execution_count": 2,
   "metadata": {},
   "outputs": [],
   "source": [
    "f_theta = lambda x, theta: 1 / (1 + np.exp(-theta * x))"
   ]
  },
  {
   "cell_type": "code",
   "execution_count": 3,
   "metadata": {},
   "outputs": [
    {
     "data": {
      "text/plain": [
       "<matplotlib.legend.Legend at 0x109844e10>"
      ]
     },
     "execution_count": 3,
     "metadata": {},
     "output_type": "execute_result"
    },
    {
     "data": {
      "image/png": "[encoded data removed]",
      "text/plain": [
       "<Figure size 432x288 with 1 Axes>"
      ]
     },
     "metadata": {
      "needs_background": "light"
     },
     "output_type": "display_data"
    }
   ],
   "source": [
    "interval = -5, 5\n",
    "xs = np.linspace(interval[0], interval[1], num=8000)\n",
    "\n",
    "plt.plot(xs, f_theta(xs, 1), label=\"$\\\\bf{\\\\theta=1}$\")\n",
    "plt.plot(xs, f_theta(xs, 2), label=\"$\\\\bf{\\\\theta=2}$\")\n",
    "plt.plot(xs, f_theta(xs, 10), label=\"$\\\\bf{\\\\theta=10}$\")\n",
    "\n",
    "plt.xlim([interval[0], interval[1]])\n",
    "plt.xlabel(\"$\\\\bf{x}$\", fontsize='xx-large')\n",
    "plt.ylabel(\"$\\\\bf{f_{\\\\theta}(x)}$\", fontsize='xx-large')\n",
    "\n",
    "plt.legend()"
   ]
  },
  {
   "cell_type": "markdown",
   "metadata": {},
   "source": [
    "---\n",
    "### 1: Generate training data\n",
    "\n",
    "Create a vector with $n = 7$ evenly spaced points in the interval $[−5,\\ 5]$. For each point $x_i$ in this vector, compute $y_i = f_{\\theta}(x_i)$. You should now have 7 pairs $(x_i,\\ y_i)$. Provide a printout of the 7 pairs (e.g., in a table).\n",
    "\n",
    "---"
   ]
  },
  {
   "cell_type": "code",
   "execution_count": 4,
   "metadata": {},
   "outputs": [],
   "source": [
    "# Helper functions for question #1\n",
    "def generate_table(xs, ys):\n",
    "    print(\"{:<3}| {:<23}| {:<23}\\n----------------------------------------------------\".format(\"i\", \"x_i\", \"y_i\"))\n",
    "    i = 1\n",
    "    for i in range(len(xs)):\n",
    "        print(\"{:<3}| {:<23}| {:<23}\".format(i, xs[i], ys[i]))\n",
    "        i += 1\n",
    "        \n",
    "def get_ys(f, xs, theta):\n",
    "    ys = []\n",
    "    for x in xs:\n",
    "        ys.append(f(x, theta))\n",
    "    return ys"
   ]
  },
  {
   "cell_type": "code",
   "execution_count": 5,
   "metadata": {},
   "outputs": [
    {
     "name": "stdout",
     "output_type": "stream",
     "text": [
      "i  | x_i                    | y_i                    \n",
      "----------------------------------------------------\n",
      "0  | -5.0                   | 0.0066928509242848554  \n",
      "1  | -3.333333333333333     | 0.03444519566621118    \n",
      "2  | -1.6666666666666665    | 0.15886910488091516    \n",
      "3  | 0.0                    | 0.5                    \n",
      "4  | 1.666666666666667      | 0.8411308951190849     \n",
      "5  | 3.333333333333334      | 0.9655548043337889     \n",
      "6  | 5.0                    | 0.9933071490757153     \n"
     ]
    }
   ],
   "source": [
    "theta = 1\n",
    "\n",
    "train_vec = np.linspace(interval[0], interval[1], num=7, endpoint=True)\n",
    "train_ys  = get_ys(f_theta, train_vec, theta)\n",
    "\n",
    "generate_table(train_vec, train_ys)"
   ]
  },
  {
   "cell_type": "markdown",
   "metadata": {},
   "source": [
    "---\n",
    "### 2: Train the model\n",
    "\n",
    "Construct the Vandermonde system and solve for the coefficients of the unique degree 6 interpolating polynomial $p_6(x)$. Provide a printout of the 6 coefficients.\n",
    "\n",
    "---\n",
    "\n",
    "$p_6(x)=\\sum_{k=0}^{6}=c_k\\cdot x^k$"
   ]
  },
  {
   "cell_type": "code",
   "execution_count": 6,
   "metadata": {},
   "outputs": [],
   "source": [
    "vandermonde_matrix = np.vander(train_vec, increasing=True)"
   ]
  },
  {
   "cell_type": "markdown",
   "metadata": {},
   "source": [
    "---\n",
    "\n",
    "Now I have to solve for the vector that contains the coefficients."
   ]
  },
  {
   "cell_type": "code",
   "execution_count": 7,
   "metadata": {},
   "outputs": [
    {
     "name": "stdout",
     "output_type": "stream",
     "text": [
      "[ 5.00000000e-01  2.33084084e-01 -4.75283111e-17 -1.08321332e-02\n",
      "  4.01333175e-18  2.18209080e-04 -8.09352585e-20]\n"
     ]
    }
   ],
   "source": [
    "cs = np.linalg.solve(vandermonde_matrix, train_ys)\n",
    "\n",
    "print(cs)"
   ]
  },
  {
   "cell_type": "markdown",
   "metadata": {},
   "source": [
    "---\n",
    "\n",
    "And we get: $p_6(x)= -8.09352585e-20x^6+2.18209080e-04x^5+4.01333175e-18x^4-1.08321332e-02x^3-4.75283111e-17x^2+2.33084084e-01x+0.5$"
   ]
  },
  {
   "cell_type": "code",
   "execution_count": 8,
   "metadata": {},
   "outputs": [],
   "source": [
    "f_tilde = lambda x: (-8.09352585e-20 * (x ** 6)) + (2.18209080e-04 * (x ** 5)) + (4.01333175e-18 * (x ** 4)) + (-1.08321332e-02 * (x ** 3)) + (-4.75283111e-17 * (x ** 2)) + (2.33084084e-01 * x) + 0.5"
   ]
  },
  {
   "cell_type": "code",
   "execution_count": 9,
   "metadata": {},
   "outputs": [
    {
     "data": {
      "text/plain": [
       "<matplotlib.legend.Legend at 0x10b9fc250>"
      ]
     },
     "execution_count": 9,
     "metadata": {},
     "output_type": "execute_result"
    },
    {
     "data": {
      "image/png": "[encoded data removed]",
      "text/plain": [
       "<Figure size 432x288 with 1 Axes>"
      ]
     },
     "metadata": {
      "needs_background": "light"
     },
     "output_type": "display_data"
    }
   ],
   "source": [
    "plt.plot(xs, f_theta(xs, theta), label=\"$\\\\bf{f_{\\\\theta}(x)}$\")\n",
    "plt.plot(xs, f_tilde(xs), label=\"$\\\\bf{\\\\tilde{f}(x)}$\")\n",
    "\n",
    "plt.xlim([interval[0], interval[1]])\n",
    "plt.xlabel(\"$\\\\bf{x}$\", fontsize='xx-large')\n",
    "plt.ylabel(\"$\\\\bf{f_{\\\\theta}(x)}$\", fontsize='xx-large')\n",
    "\n",
    "plt.legend()"
   ]
  },
  {
   "cell_type": "markdown",
   "metadata": {},
   "source": [
    "---\n",
    "### 3: Generate the testing data\n",
    "\n",
    "Create a new vector with 101 evenly spaced points in $[−5,\\ 5]$. For each point $x_{i}^{'}$, compute $y_{i}^{'}=f_{\\theta}(x_{i}^{'})$. Report the mean and standard deviation from the set of points $y_{1}^{'}, . . . , y_{101}^{'}$.\n",
    "\n",
    "---"
   ]
  },
  {
   "cell_type": "code",
   "execution_count": 10,
   "metadata": {},
   "outputs": [
    {
     "name": "stdout",
     "output_type": "stream",
     "text": [
      "Mean: 0.5000000000000001\n",
      "Std.: 0.39019312637433506\n"
     ]
    }
   ],
   "source": [
    "test_vec = np.linspace(interval[0], interval[1], num=101, endpoint=True)\n",
    "test_ys  = get_ys(f_theta, test_vec, theta)\n",
    "\n",
    "\n",
    "print(\"Mean: {}\".format(np.mean(test_ys)))\n",
    "print(\"Std.: {}\".format(np.std(test_ys)))"
   ]
  },
  {
   "cell_type": "markdown",
   "metadata": {},
   "source": [
    "---\n",
    "### 4: Compute the testing error\n",
    "\n",
    "Compute and report the the absolute testing error: $error = error_{\\theta = 1,\\ n=7} = max_{1\\leq i \\leq 101} \\mid y_{i}^{'} − p_6(x_{i}^{'}) \\mid$\n",
    "\n",
    "---"
   ]
  },
  {
   "cell_type": "code",
   "execution_count": 11,
   "metadata": {},
   "outputs": [],
   "source": [
    "# Helper functions for question #2\n",
    "def get_errors(xs, ys, f_tilde):\n",
    "    error = []\n",
    "    for i in range(len(xs)):\n",
    "        error.append(abs(ys[i] - f_tilde(xs[i])))\n",
    "    return error"
   ]
  },
  {
   "cell_type": "code",
   "execution_count": 12,
   "metadata": {},
   "outputs": [
    {
     "name": "stdout",
     "output_type": "stream",
     "text": [
      "Error (theta = 1):  0.025163854763386617\n"
     ]
    }
   ],
   "source": [
    "errors = get_errors(test_vec, test_ys, f_tilde)\n",
    "print(\"Error (theta = 1): \", max(errors))"
   ]
  },
  {
   "cell_type": "markdown",
   "metadata": {},
   "source": [
    "---\n",
    "### 5: Repeat steps 1-4 with $\\theta = 10$\n",
    "\n",
    "How does the error change? What does that tell you about the quality of the polynomial approximation for the two functions?\n",
    "\n",
    "---\n",
    "##### 1"
   ]
  },
  {
   "cell_type": "code",
   "execution_count": 13,
   "metadata": {},
   "outputs": [
    {
     "name": "stdout",
     "output_type": "stream",
     "text": [
      "i  | x_i                    | y_i                    \n",
      "----------------------------------------------------\n",
      "0  | -5.0                   | 1.928749847963918e-22  \n",
      "1  | -3.333333333333333     | 3.338237795365011e-15  \n",
      "2  | -1.6666666666666665    | 5.777748185595394e-08  \n",
      "3  | 0.0                    | 0.5                    \n",
      "4  | 1.666666666666667      | 0.9999999422225181     \n",
      "5  | 3.333333333333334      | 0.9999999999999967     \n",
      "6  | 5.0                    | 1.0                    \n"
     ]
    }
   ],
   "source": [
    "theta = 10\n",
    "\n",
    "train_vec = np.linspace(interval[0], interval[1], num=7, endpoint=True)\n",
    "train_ys  = get_ys(f_theta, train_vec, theta)\n",
    "\n",
    "generate_table(train_vec, train_ys)"
   ]
  },
  {
   "cell_type": "markdown",
   "metadata": {},
   "source": [
    "##### 2"
   ]
  },
  {
   "cell_type": "code",
   "execution_count": 14,
   "metadata": {},
   "outputs": [
    {
     "name": "stdout",
     "output_type": "stream",
     "text": [
      "[ 5.00000000e-01  3.69999948e-01 -8.08372189e-17 -2.69999932e-02\n",
      "  6.60579119e-18  6.47999813e-04 -1.34892097e-19]\n"
     ]
    }
   ],
   "source": [
    "vandermonde_matrix = np.vander(train_vec, increasing=True)\n",
    "cs = np.linalg.solve(vandermonde_matrix, train_ys)\n",
    "\n",
    "print(cs)"
   ]
  },
  {
   "cell_type": "markdown",
   "metadata": {},
   "source": [
    "---\n",
    "\n",
    "Again, we get: $p_6(x)= -1.34892097e-19x^6+6.47999813e-04x^5+6.60579119e-18x^4-2.69999932e-02x^3-8.08372189e-17x^2+3.69999948e-01x+0.5$"
   ]
  },
  {
   "cell_type": "code",
   "execution_count": 15,
   "metadata": {},
   "outputs": [],
   "source": [
    "f_tilde = lambda x: (-1.34892097e-19 * (x ** 6)) + (6.47999813e-04 * (x ** 5)) + (6.60579119e-18 * (x ** 4)) + (-2.69999932e-02 * (x ** 3)) + (-8.08372189e-17 * (x ** 2)) + (3.69999948e-01 * x) + 0.5"
   ]
  },
  {
   "cell_type": "code",
   "execution_count": 16,
   "metadata": {},
   "outputs": [
    {
     "data": {
      "text/plain": [
       "<matplotlib.legend.Legend at 0x10bb17550>"
      ]
     },
     "execution_count": 16,
     "metadata": {},
     "output_type": "execute_result"
    },
    {
     "data": {
      "image/png": "[encoded data removed]",
      "text/plain": [
       "<Figure size 432x288 with 1 Axes>"
      ]
     },
     "metadata": {
      "needs_background": "light"
     },
     "output_type": "display_data"
    }
   ],
   "source": [
    "plt.plot(xs, f_theta(xs, theta), label=\"$\\\\bf{f_{\\\\theta}(x)}$\")\n",
    "plt.plot(xs, f_tilde(xs), label=\"$\\\\bf{\\\\tilde{f}(x)}$\")\n",
    "\n",
    "plt.xlim([interval[0], interval[1]])\n",
    "plt.xlabel(\"$\\\\bf{x}$\", fontsize='xx-large')\n",
    "plt.ylabel(\"$\\\\bf{f_{\\\\theta}(x)}$\", fontsize='xx-large')\n",
    "\n",
    "plt.legend()"
   ]
  },
  {
   "cell_type": "markdown",
   "metadata": {},
   "source": [
    "##### 3"
   ]
  },
  {
   "cell_type": "code",
   "execution_count": 17,
   "metadata": {},
   "outputs": [
    {
     "name": "stdout",
     "output_type": "stream",
     "text": [
      "Mean: 0.5\n",
      "Std.: 0.4899989875597514\n"
     ]
    }
   ],
   "source": [
    "test_ys = get_ys(f_theta, test_vec, theta)\n",
    "\n",
    "print(\"Mean: {}\".format(np.mean(test_ys)))\n",
    "print(\"Std.: {}\".format(np.std(test_ys)))"
   ]
  },
  {
   "cell_type": "markdown",
   "metadata": {},
   "source": [
    "##### 4"
   ]
  },
  {
   "cell_type": "code",
   "execution_count": 18,
   "metadata": {},
   "outputs": [
    {
     "name": "stdout",
     "output_type": "stream",
     "text": [
      "Error (theta = 10):  0.34230156759928765\n"
     ]
    }
   ],
   "source": [
    "errors = get_errors(test_vec, test_ys, f_tilde)\n",
    "print(\"Error (theta = 10): \", max(errors))"
   ]
  },
  {
   "cell_type": "markdown",
   "metadata": {},
   "source": [
    "---\n",
    "\n",
    "The error grows. Although it is true that increasing $n$ will increase error, the error that is caused in this case is due to $\\theta$. In this question, similar to #4, we use a polynomial of degree 6. As $\\theta$ grows, so does our error thus our approximation isn't as good. The **EC** is the part that showcases how changing $n$ impacts the error.\n",
    "\n",
    "---\n",
    "### EC: Repeat steps 1-4 with $\\theta = 10$\n",
    "\n",
    "Repeat steps 1-4 with $\\theta = 10$ and $n = 8,\\ 9,\\ .\\ .\\ .\\ ,\\ 15$. Plot $error_{\\theta=10,\\ n}$ versus $n$ on a semilog scale. How does the polynomial approximation converge as n increases?\n",
    "\n",
    "---"
   ]
  },
  {
   "cell_type": "code",
   "execution_count": 19,
   "metadata": {},
   "outputs": [],
   "source": [
    "# Helper functions to make looping through different n's simpler\n",
    "def get_polynomial_ys(xs, cs):\n",
    "    ys = []\n",
    "    for x in xs:\n",
    "        y = 0\n",
    "        for i in range(len(cs)-1):\n",
    "            y += cs[i] * (x ** i)\n",
    "        ys.append(y)\n",
    "    return ys\n",
    "    \n",
    "def get_errors2(ys, poly_ys):\n",
    "    error = []\n",
    "    for i in range(len(ys)):\n",
    "        error.append(abs(ys[i] - poly_ys[i]))\n",
    "    return error"
   ]
  },
  {
   "cell_type": "code",
   "execution_count": 20,
   "metadata": {},
   "outputs": [
    {
     "data": {
      "text/plain": [
       "Text(0, 0.5, '$\\\\bf{error_{\\\\theta=10,\\\\ n}}$')"
      ]
     },
     "execution_count": 20,
     "metadata": {},
     "output_type": "execute_result"
    },
    {
     "data": {
      "image/png": "[encoded data removed]",
      "text/plain": [
       "<Figure size 432x288 with 1 Axes>"
      ]
     },
     "metadata": {
      "needs_background": "light"
     },
     "output_type": "display_data"
    }
   ],
   "source": [
    "theta = 10\n",
    "\n",
    "exp_range = 8, 15\n",
    "n = [x for x in range(exp_range[0], exp_range[1] + 1)]\n",
    "err = []\n",
    "\n",
    "for i in n:\n",
    "    train_vec = np.linspace(interval[0], interval[1], num=i, endpoint=True)\n",
    "    train_ys  = get_ys(f_theta, train_vec, theta)\n",
    "    vandermonde_matrix = np.vander(train_vec, increasing=True)\n",
    "    cs = np.linalg.solve(vandermonde_matrix, train_ys)\n",
    "    poly_ys = get_polynomial_ys(train_vec, cs)\n",
    "    errors = get_errors2(train_ys, poly_ys)\n",
    "    err.append(max(errors))\n",
    "plt.semilogy(n, err)\n",
    "\n",
    "plt.xlim([exp_range[0], exp_range[1]])\n",
    "plt.xlabel(\"$\\\\bf{n}$\", fontsize='xx-large')\n",
    "plt.ylabel(\"$\\\\bf{error_{\\\\theta=10,\\\\ n}}$\", fontsize='xx-large')"
   ]
  },
  {
   "cell_type": "markdown",
   "metadata": {},
   "source": [
    "I did all 4 steps in one cell to make it easier to loop through $n = 8,\\ .\\ .\\ .\\ ,15$. Although this experiment helped and made it seem to converge to $\\infty$, I did it with 115 trials below, and it looks to converge at $10^{13}$. Obviously as we take more and more evenly spaced points, our vandermonde matrix becomes likely more and more ill-conditioned which explains the larger error; also, the approximation typically really sucks near both the endpoints as can be seen in the plot I made for **#5**."
   ]
  },
  {
   "cell_type": "code",
   "execution_count": 21,
   "metadata": {},
   "outputs": [
    {
     "data": {
      "text/plain": [
       "Text(0, 0.5, '$\\\\bf{error_{\\\\theta=10,\\\\ n}}$')"
      ]
     },
     "execution_count": 21,
     "metadata": {},
     "output_type": "execute_result"
    },
    {
     "data": {
      "image/png": "[encoded data removed]",
      "text/plain": [
       "<Figure size 432x288 with 1 Axes>"
      ]
     },
     "metadata": {
      "needs_background": "light"
     },
     "output_type": "display_data"
    }
   ],
   "source": [
    "theta = 10\n",
    "\n",
    "exp_range = 8, 115\n",
    "n = [x for x in range(exp_range[0], exp_range[1] + 1)]\n",
    "err = []\n",
    "\n",
    "for i in n:\n",
    "    train_vec = np.linspace(interval[0], interval[1], num=i, endpoint=True)\n",
    "    train_ys  = get_ys(f_theta, train_vec, theta)\n",
    "    vandermonde_matrix = np.vander(train_vec, increasing=True)\n",
    "    cs = np.linalg.solve(vandermonde_matrix, train_ys)\n",
    "    poly_ys = get_polynomial_ys(train_vec, cs)\n",
    "    errors = get_errors2(train_ys, poly_ys)\n",
    "    err.append(max(errors))\n",
    "plt.semilogy(n, err)\n",
    "\n",
    "plt.xlim([exp_range[0], exp_range[1]])\n",
    "plt.xlabel(\"$\\\\bf{n}$\", fontsize='xx-large')\n",
    "plt.ylabel(\"$\\\\bf{error_{\\\\theta=10,\\\\ n}}$\", fontsize='xx-large')"
   ]
  },
  {
   "cell_type": "code",
   "execution_count": null,
   "metadata": {},
   "outputs": [],
   "source": []
  }
 ],
 "metadata": {
  "kernelspec": {
   "display_name": "Python 3",
   "language": "python",
   "name": "python3"
  },
  "language_info": {
   "codemirror_mode": {
    "name": "ipython",
    "version": 3
   },
   "file_extension": ".py",
   "mimetype": "text/x-python",
   "name": "python",
   "nbconvert_exporter": "python",
   "pygments_lexer": "ipython3",
   "version": "3.7.4"
  }
 },
 "nbformat": 4,
 "nbformat_minor": 2
}

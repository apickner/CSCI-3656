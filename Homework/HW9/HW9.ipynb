{
 "cells": [
  {
   "cell_type": "markdown",
   "metadata": {},
   "source": [
    "##### Numerical Computation: HW9\n",
    "\n",
    "##### Andrew Pickner\n",
    "\n",
    "I worked alone on this assignment.\n",
    "\n",
    "---"
   ]
  },
  {
   "cell_type": "code",
   "execution_count": 1,
   "metadata": {},
   "outputs": [],
   "source": [
    "# global imports\n",
    "\n",
    "import numpy as np\n",
    "\n",
    "%matplotlib inline\n",
    "import matplotlib.pyplot as plt\n",
    "plt.style.use('seaborn-whitegrid')"
   ]
  },
  {
   "cell_type": "code",
   "execution_count": 2,
   "metadata": {},
   "outputs": [],
   "source": [
    "def get_error(obs, truth):\n",
    "    diff = np.subtract(obs, truth)\n",
    "    return np.sqrt(np.linalg.norm(diff, ord=2) / np.linalg.norm(truth, ord=2))\n",
    "\n",
    "def get_size(matrix):\n",
    "    return matrix.shape[0], matrix.shape[1]\n",
    "\n",
    "def is_symmetric(matrix):\n",
    "    if matrix.shape[0] == matrix.shape[1]:\n",
    "        if isinstance(matrix[0][0], float):\n",
    "            return np.allclose(matrix,matrix.T, atol=1e-05)\n",
    "        return np.array_equal(matrix,matrix.T)\n",
    "    return False\n",
    "\n",
    "def get_rank(matrix):\n",
    "    if is_symmetric(matrix):\n",
    "        return np.linalg.matrix_rank(matrix, tol=None, hermitian=True)\n",
    "    return np.linalg.matrix_rank(matrix, tol=None, hermitian=False)\n",
    "\n",
    "def get_condition_number(matrix):\n",
    "    return np.linalg.cond(matrix)\n",
    "\n",
    "# reworked a function from homework 5 where we use cholesky or LU decomp. depending on what\n",
    "def NE_solve1(A,b):\n",
    "    if is_symmetric(A) and get_rank(A) == get_size(A)[1]:\n",
    "        print(\"NE used: Cholesky\")\n",
    "        return cholesky_solve(A,b)\n",
    "    print(\"NE used: LU\")\n",
    "    return lu_solve(A,b)\n",
    "\n",
    "# reworked a function from homework 5 where we use cholesky or LU decomp. depending on what\n",
    "def NE_solve2(A,b):\n",
    "    if is_symmetric(A) and get_rank(A) == get_size(A)[1]:\n",
    "        print(\"NE used: Cholesky\")\n",
    "        return cholesky_solve2(A,b)\n",
    "    print(\"NE used: LU\")\n",
    "    return lu_solve2(A,b)\n",
    "\n",
    "def lu(A):\n",
    "    #  n = number of rows\n",
    "    n = A.shape[0]\n",
    "    U = A.copy()\n",
    "    L = np.eye(n, dtype=np.double)\n",
    "    #Loop over rows\n",
    "    for i in range(n):\n",
    "        #Eliminate entries below i with row operations \n",
    "        #on U and reverse the row operations to \n",
    "        #manipulate L\n",
    "        factor = U[i+1:, i] / U[i, i]\n",
    "        L[i+1:, i] = factor\n",
    "        U[i+1:] -= factor[:, np.newaxis] * U[i]\n",
    "    return L, U\n",
    "\n",
    "def lu_solve(A, b):\n",
    "    new_A = np.matmul(A.T, A)\n",
    "    new_b = np.matmul(A.T, b)\n",
    "    L, U = lu(new_A)\n",
    "    # solve Ly=b for y using forward sub\n",
    "    y = forward_sub(L, new_b)\n",
    "    # then solve Ux=y for x using back sub\n",
    "    return back_sub(U, y)\n",
    "    # seemed rather consistent with the scipy method so I kept the forward and backward that I have.\n",
    "    # return solve_triangular(U, b)\n",
    "    \n",
    "def lu_solve2(A, b):\n",
    "    L, U = lu(A)\n",
    "    # solve Ly=b for y using forward sub\n",
    "    y = forward_sub(L, b)\n",
    "    # then solve Ux=y for x using back sub\n",
    "    return back_sub(U, y)\n",
    "    # seemed rather consistent with the scipy method so I kept the forward and backward that I have.\n",
    "    # return solve_triangular(U, b)\n",
    "\n",
    "def cholesky(A):\n",
    "    #  n = number of rows\n",
    "    n = A.shape[0]\n",
    "    L = np.zeros((n, n), dtype=np.double)\n",
    "    for k in range(n):\n",
    "        L[k, k] = np.sqrt(A[k, k] - np.sum(L[k, :] ** 2))\n",
    "        L[(k+1):, k] = (A[(k+1):, k] - L[(k+1):, :] @ L[:, k]) / L[k, k]\n",
    "    return L\n",
    "\n",
    "def cholesky_solve(A, b):\n",
    "    new_A = np.matmul(A.T, A)\n",
    "    new_b = np.matmul(A.T, b)\n",
    "    L = cholesky(new_A)\n",
    "#     y = np.linalg.solve(L, new_b)\n",
    "#     return np.linalg.solve(L.T, y)\n",
    "    # just special case of LU decomp where U = L.T\n",
    "    y = forward_sub(L, new_b)\n",
    "    return back_sub(L.T, y)\n",
    "\n",
    "def cholesky_solve2(A, b):\n",
    "    L = cholesky(A)\n",
    "#     y = np.linalg.solve(L, new_b)\n",
    "#     return np.linalg.solve(L.T, y)\n",
    "    # just special case of LU decomp where U = L.T\n",
    "    y = forward_sub(L, b)\n",
    "    return back_sub(L.T, y)\n",
    "\n",
    "def forward_sub(L, b):\n",
    "    #  n = number of rows\n",
    "    n = L.shape[0]\n",
    "    # allocating space for the solution vector\n",
    "    y = np.zeros_like(b, dtype=np.double);\n",
    "    #Here we perform the forward-substitution.  \n",
    "    #Initializing  with the first row.\n",
    "    y[0] = b[0] / L[0, 0]\n",
    "    #Looping over rows in reverse (from the bottom  up),\n",
    "    #starting with the second to last row, because  the \n",
    "    #last row solve was completed in the last step.\n",
    "    for i in range(1, n):\n",
    "        y[i] = (b[i] - np.dot(L[i,:i], y[:i])) / L[i,i]\n",
    "    return y\n",
    "\n",
    "def back_sub(U, y):\n",
    "    #  n = number of rows\n",
    "    n = U.shape[0]\n",
    "    # allocating space for the solution vector\n",
    "    x = np.zeros_like(y, dtype=np.double);\n",
    "    #Here we perform the back-substitution.  \n",
    "    #Initializing with the last row.\n",
    "    x[-1] = y[-1] / U[-1, -1]\n",
    "    #Looping over rows in reverse (from the bottom up), \n",
    "    #starting with the second to last row, because the \n",
    "    #last row solve was completed in the last step.\n",
    "    for i in range(n-2, -1, -1):\n",
    "        x[i] = (y[i] - np.dot(U[i,i:], x[i:])) / U[i,i]\n",
    "    return x\n",
    "\n",
    "# 1 NE\n",
    "def NE_solver1(A, b):\n",
    "    return NE_solve1(A,b) \n",
    "\n",
    "def NE_solver2(A, b):\n",
    "    new_A = np.matmul(A.T, A)\n",
    "    new_b = np.matmul(A.T, b)\n",
    "    return NE_solve1(new_A,new_b) \n",
    "    \n",
    "# 2 QR\n",
    "def QR_solver(A, b):\n",
    "    Q, R = np.linalg.qr(A)\n",
    "    return np.linalg.solve(R, Q.T.dot(b))"
   ]
  },
  {
   "cell_type": "markdown",
   "metadata": {},
   "source": [
    "---\n",
    "### 1: Consider the function: $f(x) = sin(2\\pi x) + cos(3\\pi x)$\n",
    "\n",
    "\n",
    "Compute the coefficients of a least-squares-fit degree-7 polynomial from $n = 33$ evenly spaced points. In other words, your training data are pairs $(x_i, y_i)$ with $i = 1,\\ .\\ .\\ .\\ , 33$ where the $x_i$’s are evenly spaced points in $[−1,1]$ (like, `linspace`) and $y_i = f(x_i)$. Make a plot of both $f(x)$ and the degree-7 polynomial approximation.\n",
    "\n",
    "---"
   ]
  },
  {
   "cell_type": "code",
   "execution_count": 3,
   "metadata": {},
   "outputs": [],
   "source": [
    "f = lambda x: np.sin(2 * np.pi * x) + np.cos(3 * np.pi * x)"
   ]
  },
  {
   "cell_type": "code",
   "execution_count": 4,
   "metadata": {},
   "outputs": [],
   "source": [
    "num_points = 33\n",
    "interval = -1, 1\n",
    "\n",
    "xs = np.linspace(interval[0], interval[1], num=num_points)"
   ]
  },
  {
   "cell_type": "code",
   "execution_count": 5,
   "metadata": {},
   "outputs": [],
   "source": [
    "# degree of p(x)\n",
    "d = 7\n",
    "\n",
    "# vandermonde matrix to represent our over-determined system\n",
    "A = np.vander(xs, N=d+1, increasing=True)\n",
    "\n",
    "# actual values of f(x) that were trying to approximate\n",
    "ys = np.array([f(x) for x in xs])\n",
    "\n",
    "# our coefficients for the polynomial of\n",
    "cs = np.linalg.lstsq(A, ys, rcond=None)[0]"
   ]
  },
  {
   "cell_type": "code",
   "execution_count": 6,
   "metadata": {},
   "outputs": [],
   "source": [
    "def f_tilde(cs, x):\n",
    "    return sum([cs[i] * (x ** i) for i in range(len(cs))])"
   ]
  },
  {
   "cell_type": "code",
   "execution_count": 7,
   "metadata": {},
   "outputs": [],
   "source": [
    "approx = [f_tilde(cs, x) for x in xs]"
   ]
  },
  {
   "cell_type": "code",
   "execution_count": 8,
   "metadata": {},
   "outputs": [
    {
     "data": {
      "text/plain": [
       "<matplotlib.legend.Legend at 0x10b186710>"
      ]
     },
     "execution_count": 8,
     "metadata": {},
     "output_type": "execute_result"
    },
    {
     "data": {
      "image/png": "[encoded data removed]",
      "text/plain": [
       "<Figure size 432x288 with 1 Axes>"
      ]
     },
     "metadata": {
      "needs_background": "light"
     },
     "output_type": "display_data"
    }
   ],
   "source": [
    "plt.plot(xs, ys, '-o', label='$f(x_{i})$')\n",
    "plt.plot(xs, approx, '-o', label='$p_{7}(x_{i})$')\n",
    "plt.xlim([interval[0], interval[1]])\n",
    "plt.xlabel(\"$x_{i}$\", fontsize='xx-large')\n",
    "plt.ylabel(\"$y_{i}$\", fontsize='xx-large')\n",
    "plt.legend()"
   ]
  },
  {
   "cell_type": "markdown",
   "metadata": {},
   "source": [
    "---\n",
    "### 2: Create testing data: \n",
    "\n",
    "\n",
    "(i) choose $100$ random points in the interval $[−1, 1]$.\n",
    "(ii) evaluate the function at each of those points. This gives you a new set of data: $(x_{1}^{'},\\ y_{1}^{'}),\\ .\\ .\\ .\\ ,\\ (x_{100}^{'},y_{100}^{'})$.\n",
    "\n",
    "For $d$ from $1$ to $31$, compute the least-squares coefficients of a polynomial of degree d with the same training data as in the last problem using both the QR method and the normal equations.\n",
    "For each trained polynomial $p_{d}(x)$, compute the normalized testing error:\n",
    "\n",
    "$e_d = (\\frac{\\Sigma_{i=1}^{100}(y_{i}^{'} - p(x_{i}^{'}))^2}{\\Sigma_{i=1}^{100} (y_{i}^{'})^2})^{\\frac{1}{2}}$\n",
    "\n",
    "Plot the error $e_d$ versus $d$ on a log scale (that is, use semilogy). Make sure to include both (i) the error computed using the QR decomposition and (ii) the error computed using the normal equations. Interpret the error behavior.\n",
    "\n",
    "---"
   ]
  },
  {
   "cell_type": "code",
   "execution_count": 9,
   "metadata": {},
   "outputs": [],
   "source": [
    "def generate_random_xs(low=-1, high=1, n=100):\n",
    "    l1 = np.append(np.array([low]), low * np.random.rand(n//2 - 1))\n",
    "    l2 = np.append(np.array([high]), high * np.random.rand(n//2 - 1))\n",
    "    ret = np.append(l1, l2)\n",
    "    return np.sort(ret)"
   ]
  },
  {
   "cell_type": "code",
   "execution_count": 10,
   "metadata": {},
   "outputs": [],
   "source": [
    "new_size = 100 \n",
    "\n",
    "# i\n",
    "new_xs = generate_random_xs()\n",
    "\n",
    "# ii\n",
    "new_ys = np.array([f(x) for x in new_xs])"
   ]
  },
  {
   "cell_type": "code",
   "execution_count": 11,
   "metadata": {},
   "outputs": [
    {
     "name": "stdout",
     "output_type": "stream",
     "text": [
      "1\n",
      "NE used: LU\n",
      "2\n",
      "NE used: LU\n",
      "3\n",
      "NE used: LU\n",
      "4\n",
      "NE used: LU\n",
      "5\n",
      "NE used: LU\n",
      "6\n",
      "NE used: LU\n",
      "7\n",
      "NE used: LU\n",
      "8\n",
      "NE used: LU\n",
      "9\n",
      "NE used: LU\n",
      "10\n",
      "NE used: LU\n",
      "11\n",
      "NE used: LU\n",
      "12\n",
      "NE used: LU\n",
      "13\n",
      "NE used: LU\n",
      "14\n",
      "NE used: LU\n",
      "15\n",
      "NE used: LU\n",
      "16\n",
      "NE used: LU\n",
      "17\n",
      "NE used: LU\n",
      "18\n",
      "NE used: LU\n",
      "19\n",
      "NE used: LU\n",
      "20\n",
      "NE used: LU\n",
      "21\n",
      "NE used: LU\n",
      "22\n",
      "NE used: LU\n",
      "23\n",
      "NE used: LU\n",
      "24\n",
      "NE used: LU\n",
      "25\n",
      "NE used: LU\n",
      "26\n",
      "NE used: LU\n",
      "27\n",
      "NE used: LU\n",
      "28\n",
      "NE used: LU\n",
      "29\n",
      "NE used: LU\n",
      "30\n",
      "NE used: LU\n",
      "31\n",
      "NE used: LU\n"
     ]
    }
   ],
   "source": [
    "d_upper = 31\n",
    "\n",
    "qr_error = []\n",
    "ne_error = []\n",
    "\n",
    "for i in range(1, d_upper + 1):\n",
    "    print(i)\n",
    "    ai = np.vander(new_xs, N=i+1, increasing=True)\n",
    "    \n",
    "    qr_cs   = QR_solver(ai, new_ys)\n",
    "    ne_cs   = NE_solver1(ai, new_ys)\n",
    "    \n",
    "    qr_approx = [f_tilde(qr_cs, x) for x in new_xs]\n",
    "    ne_approx = [f_tilde(ne_cs, x) for x in new_xs]\n",
    "    \n",
    "    qr_error.append(get_error(qr_approx, new_ys))\n",
    "    ne_error.append(get_error(ne_approx, new_ys))"
   ]
  },
  {
   "cell_type": "code",
   "execution_count": 12,
   "metadata": {},
   "outputs": [
    {
     "data": {
      "text/plain": [
       "<matplotlib.legend.Legend at 0x10d350650>"
      ]
     },
     "execution_count": 12,
     "metadata": {},
     "output_type": "execute_result"
    },
    {
     "data": {
      "image/png": "[encoded data removed]",
      "text/plain": [
       "<Figure size 432x288 with 1 Axes>"
      ]
     },
     "metadata": {
      "needs_background": "light"
     },
     "output_type": "display_data"
    }
   ],
   "source": [
    "k = [n for n in range(1, d_upper + 1)]\n",
    "plt.semilogy(k, qr_error, '-o', label='QR')\n",
    "plt.semilogy(k, ne_error, '-x', label='NE')\n",
    "\n",
    "plt.xlim([0, d_upper + 1])\n",
    "plt.xlabel(\"$degree$\", fontsize='xx-large')\n",
    "plt.ylabel(\"$error$\", fontsize='xx-large')\n",
    "plt.legend()"
   ]
  },
  {
   "cell_type": "code",
   "execution_count": 13,
   "metadata": {},
   "outputs": [
    {
     "name": "stdout",
     "output_type": "stream",
     "text": [
      "1\n",
      "NE used: Cholesky\n",
      "2\n",
      "NE used: Cholesky\n",
      "3\n",
      "NE used: Cholesky\n",
      "4\n",
      "NE used: Cholesky\n",
      "5\n",
      "NE used: Cholesky\n",
      "6\n",
      "NE used: Cholesky\n",
      "7\n",
      "NE used: Cholesky\n",
      "8\n",
      "NE used: Cholesky\n",
      "9\n",
      "NE used: Cholesky\n",
      "10\n",
      "NE used: Cholesky\n",
      "11\n",
      "NE used: Cholesky\n",
      "12\n",
      "NE used: Cholesky\n",
      "13\n",
      "NE used: Cholesky\n",
      "14\n",
      "NE used: Cholesky\n",
      "15\n",
      "NE used: Cholesky\n",
      "16\n",
      "NE used: Cholesky\n",
      "17\n",
      "NE used: Cholesky\n",
      "18\n",
      "NE used: Cholesky\n",
      "19\n",
      "NE used: Cholesky\n",
      "20\n",
      "NE used: LU\n",
      "21\n",
      "NE used: LU\n",
      "22\n",
      "NE used: LU\n",
      "23\n",
      "NE used: LU\n",
      "24\n",
      "NE used: LU\n",
      "25\n",
      "NE used: LU\n",
      "26\n",
      "NE used: LU\n",
      "27\n",
      "NE used: LU\n",
      "28\n",
      "NE used: LU\n",
      "29\n",
      "NE used: LU\n",
      "30\n",
      "NE used: LU\n",
      "31\n",
      "NE used: LU\n"
     ]
    },
    {
     "name": "stderr",
     "output_type": "stream",
     "text": [
      "/usr/local/lib/python3.7/site-packages/ipykernel_launcher.py:79: RuntimeWarning: invalid value encountered in sqrt\n"
     ]
    }
   ],
   "source": [
    "d_upper = 31\n",
    "\n",
    "qr_error = []\n",
    "ne_error = []\n",
    "\n",
    "for i in range(1, d_upper + 1):\n",
    "    print(i)\n",
    "    ai = np.vander(new_xs, N=i+1, increasing=True)\n",
    "    \n",
    "    qr_cs   = QR_solver(ai, new_ys)\n",
    "    ne_cs   = NE_solver2(ai, new_ys)\n",
    "    \n",
    "    qr_approx = [f_tilde(qr_cs, x) for x in new_xs]\n",
    "    ne_approx = [f_tilde(ne_cs, x) for x in new_xs]\n",
    "    \n",
    "    qr_error.append(get_error(qr_approx, new_ys))\n",
    "    ne_error.append(get_error(ne_approx, new_ys))"
   ]
  },
  {
   "cell_type": "code",
   "execution_count": 14,
   "metadata": {},
   "outputs": [
    {
     "data": {
      "text/plain": [
       "<matplotlib.legend.Legend at 0x10d519f50>"
      ]
     },
     "execution_count": 14,
     "metadata": {},
     "output_type": "execute_result"
    },
    {
     "data": {
      "image/png": "[encoded data removed]",
      "text/plain": [
       "<Figure size 432x288 with 1 Axes>"
      ]
     },
     "metadata": {
      "needs_background": "light"
     },
     "output_type": "display_data"
    }
   ],
   "source": [
    "k = [n for n in range(1, d_upper + 1)]\n",
    "plt.semilogy(k, qr_error, '-o', label='QR')\n",
    "plt.semilogy(k, ne_error, '-x', label='NE')\n",
    "\n",
    "plt.xlim([0, d_upper + 1])\n",
    "plt.xlabel(\"$degree$\", fontsize='xx-large')\n",
    "plt.ylabel(\"$error$\", fontsize='xx-large')\n",
    "plt.legend()"
   ]
  },
  {
   "cell_type": "markdown",
   "metadata": {},
   "source": [
    "---\n",
    "### Interpretation:\n",
    "\n",
    "So initially, I had my own Cholesky method working, but it was only going up to around degree 7 or before returning lists of `nan`'s. Hmm... I tweaked the Cholesky method to use numpy's implementation but was getting positive definite error (I assume because I was using $A^{T}A$?)... Then, I remembered  HW5 where we implemented Cholesky/LU (my method depends on symmetry), but I added the line that I had from HW8 where the rank also has to match # of columns. My error plot reproduced yours reasonably close (although, you said you made a mistake on Piazza, so now I question this...), however upon further investigation, my NE solver now uses LU decomp exclusively. I tweaked this implementation to get `NE_Solver2`, which was a shitshow, and I apologize for the mess above... It appeared to let Cholesky run up until degree 20, but the error plot implies (without me actually checking because I am eager to attempt the bonus question) that we were returning a `[nan, ... , nan]` :/\n",
    "\n",
    "Sorta weird.\n",
    "\n",
    "---"
   ]
  },
  {
   "cell_type": "markdown",
   "metadata": {},
   "source": [
    "---\n",
    "\n",
    "### BONUS\n",
    "\n",
    "Here some US COVID case counts from back in March:\n",
    "\n",
    "Days since Feb 29 | Case count\n",
    "------------------|------------\n",
    "1                 | 89\n",
    "2                 | 105\n",
    "3                 | 125\n",
    "4                 | 159\n",
    "5                 | 227\n",
    "6                 | 331\n",
    "7                 | 444\n",
    "8                 | 564\n",
    "9                 | 728\n",
    "10                | 1000\n",
    "11                | 1267\n",
    "12                | 1645\n",
    "13                | 2204\n",
    "14                | 2826\n",
    "15                | 3485\n",
    "17                | 7038\n",
    "\n",
    "Derive the linear least-squares system whose solution contains the coefficients of a log-linear model for case count over time. Plot the data on top of the model on a log scale. How well does the log-linear model (which represents exponential growth) appear to model the growth in the case count? What was the case doubling time over this roughly two week period?\n",
    "\n",
    "---\n",
    "\n",
    "Essentially, we are going to need to 'linearize' a exponential model: $y=c_{1}e^{c_2\\cdot t}$.\n",
    "\n",
    "We can do this like so: $ln(y) = ln(c_{1}) + c_{2}\\cdot t = k + c_{2}\\cdot t$"
   ]
  },
  {
   "cell_type": "code",
   "execution_count": 15,
   "metadata": {},
   "outputs": [
    {
     "data": {
      "image/png": "[encoded data removed]",
      "text/plain": [
       "<Figure size 432x288 with 1 Axes>"
      ]
     },
     "metadata": {
      "needs_background": "light"
     },
     "output_type": "display_data"
    },
    {
     "data": {
      "image/png": "[encoded data removed]",
      "text/plain": [
       "<Figure size 432x288 with 1 Axes>"
      ]
     },
     "metadata": {
      "needs_background": "light"
     },
     "output_type": "display_data"
    }
   ],
   "source": [
    "days_since_feb_29 = [day for day in range(1, 16)] + [17]\n",
    "case_count        = [89, 105, 125, 159, 227, 331, 444, 564, 728, 1000, 1267, 1645, 2204, 2826, 3485, 7038]\n",
    "\n",
    "plt.plot(days_since_feb_29, case_count,  '-o')\n",
    "plt.xlabel(\"$Days\\ since\\ Feb.\\ 29$\", fontsize='xx-large')\n",
    "plt.ylabel(\"$COVID-19\\ case\\ count$\", fontsize='xx-large')\n",
    "plt.show()\n",
    "plt.semilogy(days_since_feb_29, case_count,  '-o')\n",
    "plt.xlabel(\"$Days\\ since\\ Feb.\\ 29$\", fontsize='xx-large')\n",
    "plt.ylabel(\"$COVID-19\\ case\\ count$\", fontsize='xx-large')\n",
    "plt.show()"
   ]
  },
  {
   "cell_type": "code",
   "execution_count": 16,
   "metadata": {},
   "outputs": [
    {
     "name": "stdout",
     "output_type": "stream",
     "text": [
      "[4.48863637 4.65396035 4.82831374 5.0689042  5.42495002 5.80211838\n",
      " 6.09582456 6.33505425 6.59030105 6.90775528 7.14440718 7.40549566\n",
      " 7.69802917 7.94661756 8.15622332 8.85907932]\n",
      "[[ 1.  1.]\n",
      " [ 1.  2.]\n",
      " [ 1.  3.]\n",
      " [ 1.  4.]\n",
      " [ 1.  5.]\n",
      " [ 1.  6.]\n",
      " [ 1.  7.]\n",
      " [ 1.  8.]\n",
      " [ 1.  9.]\n",
      " [ 1. 10.]\n",
      " [ 1. 11.]\n",
      " [ 1. 12.]\n",
      " [ 1. 13.]\n",
      " [ 1. 14.]\n",
      " [ 1. 15.]\n",
      " [ 1. 17.]]\n"
     ]
    }
   ],
   "source": [
    "b = np.array([np.log(y) for y in case_count])\n",
    "print(b)\n",
    "A = np.array([[float(1), float(x)] for x in days_since_feb_29])\n",
    "print(A)"
   ]
  },
  {
   "cell_type": "code",
   "execution_count": 17,
   "metadata": {},
   "outputs": [
    {
     "name": "stdout",
     "output_type": "stream",
     "text": [
      "NE used: LU\n",
      "[4.0920173  0.27688609]\n"
     ]
    }
   ],
   "source": [
    "print(NE_solver1(A, b))"
   ]
  },
  {
   "cell_type": "code",
   "execution_count": 18,
   "metadata": {},
   "outputs": [
    {
     "name": "stdout",
     "output_type": "stream",
     "text": [
      "[4.0920173  0.27688609]\n"
     ]
    }
   ],
   "source": [
    "print(QR_solver(A, b))"
   ]
  },
  {
   "cell_type": "code",
   "execution_count": 19,
   "metadata": {},
   "outputs": [
    {
     "name": "stdout",
     "output_type": "stream",
     "text": [
      "[4.0920173  0.27688609]\n"
     ]
    }
   ],
   "source": [
    "print(np.linalg.lstsq(A, b, rcond=None)[0])"
   ]
  },
  {
   "cell_type": "code",
   "execution_count": 20,
   "metadata": {},
   "outputs": [
    {
     "name": "stdout",
     "output_type": "stream",
     "text": [
      "59.860526625182786\n"
     ]
    }
   ],
   "source": [
    "print(np.exp(4.0920173))"
   ]
  },
  {
   "cell_type": "markdown",
   "metadata": {},
   "source": [
    "---\n",
    "\n",
    "All three solvers produce the same output, thus we can proceed and solve $k$ for $c_1$:\n",
    "\n",
    "$c_1 \\approx e^{k}$\n",
    "\n",
    "$c_1 \\approx e^{4.0920173}$\n",
    "\n",
    "$c_1 \\approx 59.8605266$\n",
    "\n",
    "---"
   ]
  },
  {
   "cell_type": "code",
   "execution_count": 21,
   "metadata": {},
   "outputs": [],
   "source": [
    "approx_f = lambda t: 59.8605266 * np.exp(0.27688609 * t)"
   ]
  },
  {
   "cell_type": "code",
   "execution_count": 22,
   "metadata": {},
   "outputs": [
    {
     "data": {
      "image/png": "[encoded data removed]",
      "text/plain": [
       "<Figure size 432x288 with 1 Axes>"
      ]
     },
     "metadata": {
      "needs_background": "light"
     },
     "output_type": "display_data"
    }
   ],
   "source": [
    "approx = [approx_f(x) for x in days_since_feb_29]\n",
    "\n",
    "plt.semilogy(days_since_feb_29, case_count,  '-o')\n",
    "plt.semilogy(days_since_feb_29, approx,  '-x')\n",
    "\n",
    "plt.xlabel(\"$Days\\ since\\ Feb.\\ 29$\", fontsize='xx-large')\n",
    "plt.ylabel(\"$COVID-19\\ case\\ count$\", fontsize='xx-large')\n",
    "plt.show()"
   ]
  },
  {
   "cell_type": "code",
   "execution_count": 23,
   "metadata": {},
   "outputs": [
    {
     "data": {
      "image/png": "[encoded data removed]",
      "text/plain": [
       "<Figure size 432x288 with 1 Axes>"
      ]
     },
     "metadata": {
      "needs_background": "light"
     },
     "output_type": "display_data"
    }
   ],
   "source": [
    "approx = [approx_f(x) for x in days_since_feb_29]\n",
    "\n",
    "plt.plot(days_since_feb_29, case_count,  '-o')\n",
    "plt.plot(days_since_feb_29, approx,  '-x')\n",
    "\n",
    "plt.xlabel(\"$Days\\ since\\ Feb.\\ 29$\", fontsize='xx-large')\n",
    "plt.ylabel(\"$COVID-19\\ case\\ count$\", fontsize='xx-large')\n",
    "plt.show()"
   ]
  },
  {
   "cell_type": "markdown",
   "metadata": {},
   "source": [
    "---\n",
    "\n",
    "\n",
    "For starters, I always like to see the data on a log and linear scale. The log-linear model appears to model the growth of COVID-19 cases extremely well for the first two weeks and we find a tiny bit of error as we extend into the last few data points, but overall, this seems like a great model.\n",
    "\n",
    "The simple way I remember calculating half life is by setting the equation we have above: $y = 59.8605266\\cdot e^{0.27688609\\cdot t}$ into $2 = e^{0.27688609\\cdot t}$. Which, can be further simplified into: $\\frac{ln(2)}{0.27688609}=t$.\n",
    "\n",
    "So the doubling time turns out to around 2 and a half days, and this seems to check out when looking at the data: it appears to double every 2 or 3 days.\n",
    "\n",
    "---"
   ]
  },
  {
   "cell_type": "code",
   "execution_count": 24,
   "metadata": {},
   "outputs": [
    {
     "name": "stdout",
     "output_type": "stream",
     "text": [
      "2.503365844632879\n"
     ]
    }
   ],
   "source": [
    "print(np.log(2) / 0.27688609)"
   ]
  },
  {
   "cell_type": "code",
   "execution_count": null,
   "metadata": {},
   "outputs": [],
   "source": []
  }
 ],
 "metadata": {
  "kernelspec": {
   "display_name": "Python 3",
   "language": "python",
   "name": "python3"
  },
  "language_info": {
   "codemirror_mode": {
    "name": "ipython",
    "version": 3
   },
   "file_extension": ".py",
   "mimetype": "text/x-python",
   "name": "python",
   "nbconvert_exporter": "python",
   "pygments_lexer": "ipython3",
   "version": "3.7.4"
  }
 },
 "nbformat": 4,
 "nbformat_minor": 2
}

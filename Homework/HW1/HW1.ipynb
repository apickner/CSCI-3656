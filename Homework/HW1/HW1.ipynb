{
 "cells": [
  {
   "cell_type": "markdown",
   "metadata": {},
   "source": [
    "# Homework #1\n",
    "### Numerical Computation\n",
    "##### Andrew Pickner\n",
    "I worked alone on this assignment."
   ]
  },
  {
   "cell_type": "code",
   "execution_count": null,
   "metadata": {},
   "outputs": [],
   "source": [
    "# adding any global imports here...\n",
    "import numpy as np"
   ]
  },
  {
   "cell_type": "markdown",
   "metadata": {},
   "source": [
    "# #1"
   ]
  },
  {
   "cell_type": "code",
   "execution_count": 3,
   "metadata": {},
   "outputs": [
    {
     "name": "stdout",
     "output_type": "stream",
     "text": [
      "3.3306690738754696e-16\n"
     ]
    }
   ],
   "source": [
    "x = 9.4\n",
    "y = x - 9\n",
    "z = y - 0.4\n",
    "\n",
    "# Exact Arithmetic\n",
    "# (9.4 - 9) - 0.4 = 0\n",
    "\n",
    "# 3.3306690738754696e-16\n",
    "print(z)"
   ]
  },
  {
   "cell_type": "markdown",
   "metadata": {},
   "source": [
    "Just a sidenote before I dive into the explanation: Although I couldn't get any definitive info on how python deals with infinitely repeating binary representations, I assume it uses the Round to Nearest Rule. Also, python's floats are 64-bit double precision.\n",
    "\n",
    "The incorrect answer ultimately comes down to rounding error introduced when we have floats that require infinite bits to represent accurately. This error can compound and cause more problems down the line as more calculations are carried out.\n",
    "\n",
    "Initially, we start out by storing $9.4$, (a value that would need infinite bits to represent) in `x`. Sauer's textbook shows that `x` would be equal to: $9.4 + 0.2 \\times 2^{-49}$. In this case, $0.2 \\times 2^{-49}$ is the rounding error.\n",
    "\n",
    "We then subtract 9 from that, and because 9 can be represented with no error, we have: $0.4 + 0.2 \\times 2^{-49}$.\n",
    "\n",
    "Earlier in the textbook, we find $0.4$ to be equal to: $0.4 + 0.1 \\times 2^{-52}$. Now when we subtract this value from the value we have above we have the following:\n",
    "\n",
    "$0.2 \\times 2^{-49} - 0.1 \\times 2^{-52} = 0.1 \\times 2^{-52}(2^4-1) = \\boxed{3 \\times 2^{-52}}$"
   ]
  },
  {
   "cell_type": "code",
   "execution_count": 16,
   "metadata": {},
   "outputs": [
    {
     "data": {
      "text/plain": [
       "3.3306690738754696e-16"
      ]
     },
     "execution_count": 16,
     "metadata": {},
     "output_type": "execute_result"
    }
   ],
   "source": [
    "# and this matches the incorrect answer we got above!\n",
    "3 *(2 ** (-53))"
   ]
  },
  {
   "cell_type": "markdown",
   "metadata": {},
   "source": [
    "# #2\n",
    "\n",
    "I use Desmos to prove that they are equal, and they do look equal on all the intervals I looked at."
   ]
  },
  {
   "cell_type": "code",
   "execution_count": 65,
   "metadata": {},
   "outputs": [
    {
     "data": {
      "text/plain": [
       "[<matplotlib.lines.Line2D at 0x11dfbc690>]"
      ]
     },
     "execution_count": 65,
     "metadata": {},
     "output_type": "execute_result"
    },
    {
     "data": {
      "image/png": "[encoded data removed]",
      "text/plain": [
       "<Figure size 432x288 with 1 Axes>"
      ]
     },
     "metadata": {},
     "output_type": "display_data"
    },
    {
     "data": {
      "image/png": "[encoded data removed]",
      "text/plain": [
       "<Figure size 432x288 with 1 Axes>"
      ]
     },
     "metadata": {},
     "output_type": "display_data"
    }
   ],
   "source": [
    "%matplotlib inline\n",
    "import matplotlib.pyplot as plt\n",
    "plt.style.use('seaborn-whitegrid')\n",
    "\n",
    "def p1(x):\n",
    "    return ((x-2) ** 9)\n",
    "\n",
    "# horner's algorithm\n",
    "def horner_algo(A, x):\n",
    "    p = A[-1]\n",
    "    i = len(A) - 2\n",
    "    while i >= 0:\n",
    "        p = p * x + A[i]\n",
    "        i -= 1\n",
    "    return p\n",
    "\n",
    "#########################################################################\n",
    "\n",
    "x_left = 1.92\n",
    "x_right = 2.08\n",
    "xs = np.linspace(x_left, x_right, num=8000)\n",
    "\n",
    "#########################################################################\n",
    "\n",
    "fig = plt.figure()\n",
    "ax1 = plt.axes()\n",
    "\n",
    "ax1.set_xlabel(\"x\", fontsize=12)\n",
    "ax1.set_ylabel(\"$p_1(x)$\", fontsize=12)\n",
    "ax1.set_title(\"$\\\\bf{True}$\", fontsize=12)\n",
    "\n",
    "plt.plot(xs, p1(xs))\n",
    "\n",
    "#########################################################################\n",
    "\n",
    "fig = plt.figure()\n",
    "ax2 = plt.axes()\n",
    "\n",
    "ax2.set_xlabel(\"x\", fontsize=12)\n",
    "ax2.set_ylabel(\"$p_2(x)$\", fontsize=12)\n",
    "ax2.set_title(\"$\\\\bf{Horner's}$\", fontsize=12)\n",
    "\n",
    "p2_coefficients = [-512, 2304, -4608, 5376, -4032, 2016, -672, 144, -18, 1]\n",
    "\n",
    "plt.xlim([x_left, x_right])\n",
    "\n",
    "ax2.plot(xs, horner_algo(p2_coefficients, xs))"
   ]
  },
  {
   "cell_type": "markdown",
   "metadata": {},
   "source": [
    "With Horner's algorithm, we essentially unwrap the polynomial as much as we can using the method of nested multiplication. This allows us to evaluate a polynomial at any given `x` in less arithmetic operations than calculating the value at x naively.\n",
    "\n",
    "Honestly, I feel like $p_1(x)$ uses less arithmetic operations and is way simpler to write and digest than Horner's algorithm. Sauer's textbook doesn't explain why Horner's plot is so erroneous, rather just explains how it is an efficient algorithm. I'm not entirely sure why Horner's algorithm oscillates. I suppose more rounding errors due to multiplication, and there is potential to subtract incredibly similar numbers so we kind of see the issues from questions 1 and 3 playing an effect here."
   ]
  },
  {
   "cell_type": "markdown",
   "metadata": {},
   "source": [
    "# #3"
   ]
  },
  {
   "cell_type": "markdown",
   "metadata": {},
   "source": [
    "$f_1(x)=\\frac{1-cos(x)}{sin^2(x)}$\n",
    "\n",
    "$f_2(x)=\\frac{1}{1+cos(x)}$\n",
    "\n",
    "Sauer's textbook really helped me get a start on this problem. I assumed we would use $sin^2(x) + cos^2(x) = 1$, but I was honestly pretty stuck on how to get from $f_1$ to $f_2$. We multiply the numerator and denomenator by $1+cos(x)$ like so:\n",
    "\n",
    "$\\frac{1-cos(x)}{sin^2(x)} \\cdot \\frac{1+cos(x)}{1+cos(x)} = \\frac{1+cos(x) \\cdot 1-cos(x)}{sin^2(x) \\cdot 1+cos(x)} = \\frac{1-cos^2(x)}{sin^2(x) + sin^2(x)cos(x)}$\n",
    "\n",
    "and if we substitute the $1 - cos^2(x)$ for $sin^2(x)$ in the numerator of the last expression, we get:\n",
    "\n",
    "$\\frac{sin^2(x)}{sin^2(x) + sin^2(x)cos(x)}$\n",
    "\n",
    "finally, we can divide the numerator and denomenator by $sin^2(x)$ to get:\n",
    "\n",
    "$\\boxed{\\frac{1}{1+cos(x)} = f_2(x)}$"
   ]
  },
  {
   "cell_type": "code",
   "execution_count": 4,
   "metadata": {},
   "outputs": [
    {
     "name": "stdout",
     "output_type": "stream",
     "text": [
      "x        \t|\tf1(x)                \t|\tf2(x)                \n",
      "-----------------------------------------------------------------------------\n",
      "-----------------------------------------------------------------------------\n",
      "1        \t|\t0.6492232052047624   \t|\t0.6492232052047624   \n",
      "-----------------------------------------------------------------------------\n",
      "0.1      \t|\t0.5012520862885769   \t|\t0.5012520862885712   \n",
      "-----------------------------------------------------------------------------\n",
      "0.01     \t|\t0.5000125002084805   \t|\t0.5000125002083363   \n",
      "-----------------------------------------------------------------------------\n",
      "0.001    \t|\t0.5000001249921894   \t|\t0.5000001250000208   \n",
      "-----------------------------------------------------------------------------\n",
      "0.0001   \t|\t0.4999999986279311   \t|\t0.50000000125        \n",
      "-----------------------------------------------------------------------------\n",
      "1e-05    \t|\t0.5000000413868522   \t|\t0.5000000000125      \n",
      "-----------------------------------------------------------------------------\n",
      "1e-06    \t|\t0.5000444502913373   \t|\t0.500000000000125    \n",
      "-----------------------------------------------------------------------------\n",
      "1e-07    \t|\t0.49960036108132216  \t|\t0.5000000000000012   \n",
      "-----------------------------------------------------------------------------\n",
      "1e-08    \t|\t0.0                  \t|\t0.5                  \n",
      "-----------------------------------------------------------------------------\n",
      "1e-09    \t|\t0.0                  \t|\t0.5                  \n",
      "-----------------------------------------------------------------------------\n",
      "1e-10    \t|\t0.0                  \t|\t0.5                  \n",
      "-----------------------------------------------------------------------------\n",
      "1e-11    \t|\t0.0                  \t|\t0.5                  \n",
      "-----------------------------------------------------------------------------\n",
      "1e-12    \t|\t0.0                  \t|\t0.5                  \n",
      "-----------------------------------------------------------------------------\n"
     ]
    }
   ],
   "source": [
    "def f1(x):\n",
    "    return ((1 - np.cos(x)) / (np.sin(x) ** 2))\n",
    "    \n",
    "def f2(x):\n",
    "    return (1 / (1 + np.cos(x)))\n",
    "    \n",
    "points = []\n",
    "for k in range(13):\n",
    "    points.append(10 ** (-k))\n",
    "\n",
    "print(\"{:<9}\\t|\\t{:<21}\\t|\\t{:<21}\".format(\"x\", \"f1(x)\", \"f2(x)\"))\n",
    "print(\"-----------------------------------------------------------------------------\")\n",
    "print(\"-----------------------------------------------------------------------------\")\n",
    "for point in points:\n",
    "    print(\"{:<9}\\t|\\t{:<21}\\t|\\t{:<21}\".format(point, f1(point), f2(point)))\n",
    "    print(\"-----------------------------------------------------------------------------\")"
   ]
  },
  {
   "cell_type": "markdown",
   "metadata": {},
   "source": [
    "So the main reason we see this error here is because we are subtracting numbers that are nearly equal in $f_1$. The example in Sauer's textbook is quite nice: If we subtract two numbers that are nearly identical from each other, each with 7 significant digits, we get a result that only has 1 significant digit.\n",
    "\n",
    "$123.4567-123.4566 = 0.0001$\n",
    "\n",
    "Basically, $f_1$ subtracts nearly equal numbers and these numbers get closer to being equal as `x` approaches $0$. $f_2$ on the other hand does not face this problem and shows correct values."
   ]
  }
 ],
 "metadata": {
  "kernelspec": {
   "display_name": "Python 3",
   "language": "python",
   "name": "python3"
  },
  "language_info": {
   "codemirror_mode": {
    "name": "ipython",
    "version": 3
   },
   "file_extension": ".py",
   "mimetype": "text/x-python",
   "name": "python",
   "nbconvert_exporter": "python",
   "pygments_lexer": "ipython3",
   "version": "3.7.4"
  }
 },
 "nbformat": 4,
 "nbformat_minor": 2
}

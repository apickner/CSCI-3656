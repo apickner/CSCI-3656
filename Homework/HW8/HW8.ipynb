{
 "cells": [
  {
   "cell_type": "markdown",
   "metadata": {},
   "source": [
    "##### Numerical Computation: HW8\n",
    "\n",
    "##### Andrew Pickner\n",
    "\n",
    "I worked alone on this assignment.\n",
    "\n",
    "---"
   ]
  },
  {
   "cell_type": "code",
   "execution_count": 1,
   "metadata": {},
   "outputs": [],
   "source": [
    "# global imports\n",
    "\n",
    "import numpy as np\n",
    "\n",
    "%matplotlib inline\n",
    "import matplotlib.pyplot as plt\n",
    "plt.style.use('seaborn-whitegrid')"
   ]
  },
  {
   "cell_type": "code",
   "execution_count": 2,
   "metadata": {},
   "outputs": [],
   "source": [
    "# helper functions \n",
    "\n",
    "def read_matrix(file_name):\n",
    "    return np.loadtxt(file_name,delimiter=',')\n",
    "\n",
    "def get_size(matrix):\n",
    "    return matrix.shape[0], matrix.shape[1]\n",
    "\n",
    "def is_symmetric(matrix):\n",
    "    if matrix.shape[0] == matrix.shape[1]:\n",
    "        if isinstance(matrix[0][0], float):\n",
    "            return np.allclose(matrix,matrix.T, atol=1e-05)\n",
    "        return np.array_equal(matrix,matrix.T)\n",
    "    return False\n",
    "\n",
    "def get_rank(matrix):\n",
    "    if is_symmetric(matrix):\n",
    "        return np.linalg.matrix_rank(matrix, tol=None, hermitian=True)\n",
    "    return np.linalg.matrix_rank(matrix, tol=None, hermitian=False)\n",
    "\n",
    "def get_condition_number(matrix):\n",
    "    return np.linalg.cond(matrix)\n",
    "\n",
    "def generate_random_bs(mat_size, num_bs):\n",
    "    ret = []\n",
    "    for i in range(num_bs):\n",
    "        ret.append(np.random.rand(mat_size[0],1))\n",
    "    return ret\n",
    "\n",
    "def get_relative_error(obs, truth):\n",
    "    diff = np.subtract(obs, truth)\n",
    "    return np.linalg.norm(diff, ord=2) / np.linalg.norm(truth, ord=2)\n",
    "\n",
    "def cholesky(A):\n",
    "    #  n = number of rows\n",
    "    n = A.shape[0]\n",
    "    L = np.zeros((n, n), dtype=np.double)\n",
    "    for k in range(n):\n",
    "        L[k, k] = np.sqrt(A[k, k] - np.sum(L[k, :] ** 2))\n",
    "        L[(k+1):, k] = (A[(k+1):, k] - L[(k+1):, :] @ L[:, k]) / L[k, k]\n",
    "    return L\n",
    "\n",
    "def cholesky_solve(A, b):\n",
    "    new_A = np.matmul(A.T, A)\n",
    "    new_b = np.matmul(A.T, b)\n",
    "    L = np.linalg.cholesky(new_A)\n",
    "    y = np.linalg.solve(L, new_b)\n",
    "    return np.linalg.solve(L.T, y)\n",
    "#     # just special case of LU decomp where U = L.T\n",
    "#     y = forward_sub(L.T, new_b)\n",
    "#     return back_sub(L, y)\n",
    "\n",
    "def forward_sub(L, b):\n",
    "    #  n = number of rows\n",
    "    n = L.shape[0]\n",
    "    # allocating space for the solution vector\n",
    "    y = np.zeros_like(b, dtype=np.double);\n",
    "    #Here we perform the forward-substitution.  \n",
    "    #Initializing  with the first row.\n",
    "    y[0] = b[0] / L[0, 0]\n",
    "    #Looping over rows in reverse (from the bottom  up),\n",
    "    #starting with the second to last row, because  the \n",
    "    #last row solve was completed in the last step.\n",
    "    for i in range(1, n):\n",
    "        y[i] = (b[i] - np.dot(L[i,:i], y[:i])) / L[i,i]\n",
    "    return y\n",
    "\n",
    "def back_sub(U, y):\n",
    "    #  n = number of rows\n",
    "    n = U.shape[0]\n",
    "    # allocating space for the solution vector\n",
    "    x = np.zeros_like(y, dtype=np.double);\n",
    "    #Here we perform the back-substitution.  \n",
    "    #Initializing with the last row.\n",
    "    x[-1] = y[-1] / U[-1, -1]\n",
    "    #Looping over rows in reverse (from the bottom up), \n",
    "    #starting with the second to last row, because the \n",
    "    #last row solve was completed in the last step.\n",
    "    for i in range(n-2, -1, -1):\n",
    "        x[i] = (y[i] - np.dot(U[i,i:], x[i:])) / U[i,i]\n",
    "    return x"
   ]
  },
  {
   "cell_type": "markdown",
   "metadata": {},
   "source": [
    "**Implement the following methods for least squares:**\n",
    "1. Method of Normal Equations (uses the Cholesky factorization)\n",
    "---"
   ]
  },
  {
   "cell_type": "code",
   "execution_count": 3,
   "metadata": {},
   "outputs": [],
   "source": [
    "# 1 NE\n",
    "def NE_solver(A, b):\n",
    "    if get_rank(A) == get_size(A)[1]:\n",
    "        return cholesky_solve(A, b)\n",
    "    else:\n",
    "        print(\"Rank ({}) must be equal to number of columns ({})\".format(get_rank(A), get_size(A)[1]))\n",
    "        return None"
   ]
  },
  {
   "cell_type": "markdown",
   "metadata": {},
   "source": [
    "2. Method based on the Thin QR factorization\n",
    "---"
   ]
  },
  {
   "cell_type": "code",
   "execution_count": 4,
   "metadata": {},
   "outputs": [],
   "source": [
    "# 2 QR\n",
    "def QR_solver(A, b):\n",
    "    Q, R = np.linalg.qr(A)\n",
    "    return np.linalg.solve(R, Q.T.dot(b))"
   ]
  },
  {
   "cell_type": "markdown",
   "metadata": {},
   "source": [
    "---\n",
    "\n",
    "Next, load the given matrix into memory.\n",
    "\n",
    "---"
   ]
  },
  {
   "cell_type": "code",
   "execution_count": 5,
   "metadata": {},
   "outputs": [
    {
     "name": "stdout",
     "output_type": "stream",
     "text": [
      "A: 101 x 101 matrix.\n",
      "Max value: 1.0, Min value: -1.0\n"
     ]
    }
   ],
   "source": [
    "directory = \"/Users/AndrewMacbook/Downloads/\"\n",
    "\n",
    "file_name = \"mat1-2.txt\"\n",
    "\n",
    "matrix_file = \"{}{}\".format(directory, file_name)\n",
    "\n",
    "A = read_matrix(matrix_file)\n",
    "\n",
    "# A size\n",
    "size_A = get_size(A)\n",
    "\n",
    "print(\"A: {} x {} matrix.\".format(size_A[0], size_A[1]))\n",
    "\n",
    "# this just gave me an idea of how to generate the random b_is\n",
    "print(\"Max value: {}, Min value: {}\".format(np.max(A), np.min(A)))"
   ]
  },
  {
   "cell_type": "code",
   "execution_count": 6,
   "metadata": {},
   "outputs": [
    {
     "name": "stdout",
     "output_type": "stream",
     "text": [
      "Matrix Size: 101 x 40          Rank: 40          Condition #: 74.87666090810826\n",
      "Matrix Size: 101 x 41          Rank: 41          Condition #: 103.8003645382863\n",
      "Matrix Size: 101 x 42          Rank: 42          Condition #: 152.28560787895904\n",
      "Matrix Size: 101 x 43          Rank: 43          Condition #: 217.56037976335608\n",
      "Matrix Size: 101 x 44          Rank: 44          Condition #: 328.8920284188323\n",
      "Matrix Size: 101 x 45          Rank: 45          Condition #: 483.78052898531325\n",
      "Matrix Size: 101 x 46          Rank: 46          Condition #: 753.0464969101012\n",
      "Matrix Size: 101 x 47          Rank: 47          Condition #: 1140.074224074018\n",
      "Matrix Size: 101 x 48          Rank: 48          Condition #: 1826.7931127929296\n",
      "Matrix Size: 101 x 49          Rank: 49          Condition #: 2846.422274367003\n",
      "Matrix Size: 101 x 50          Rank: 50          Condition #: 4695.087418605814\n",
      "Matrix Size: 101 x 51          Rank: 51          Condition #: 7530.548252627645\n",
      "Matrix Size: 101 x 52          Rank: 52          Condition #: 12789.376548943541\n",
      "Matrix Size: 101 x 53          Rank: 53          Condition #: 21122.716873833033\n",
      "Matrix Size: 101 x 54          Rank: 54          Condition #: 36949.483208821104\n",
      "Matrix Size: 101 x 55          Rank: 55          Condition #: 62868.3336613421\n",
      "Matrix Size: 101 x 56          Rank: 56          Condition #: 113329.35745274856\n",
      "Matrix Size: 101 x 57          Rank: 57          Condition #: 198770.68211633232\n",
      "Matrix Size: 101 x 58          Rank: 58          Condition #: 369475.9186767642\n",
      "Matrix Size: 101 x 59          Rank: 59          Condition #: 668493.2863248118\n",
      "Matrix Size: 101 x 60          Rank: 60          Condition #: 1282274.0199731383\n",
      "Matrix Size: 101 x 61          Rank: 61          Condition #: 2395303.2392507466\n",
      "Matrix Size: 101 x 62          Rank: 62          Condition #: 4745459.925371381\n",
      "Matrix Size: 101 x 63          Rank: 63          Condition #: 9161533.464621153\n",
      "Matrix Size: 101 x 64          Rank: 64          Condition #: 18765738.011868987\n",
      "Matrix Size: 101 x 65          Rank: 65          Condition #: 37486287.289599456\n"
     ]
    }
   ],
   "source": [
    "lower_bound = 40\n",
    "upper_bound = 65\n",
    "\n",
    "num_bs      = 100\n",
    "\n",
    "NE_avg_errors = []\n",
    "QR_avg_errors = []\n",
    "\n",
    "condition_numbers = []\n",
    "\n",
    "for k in range(lower_bound, upper_bound + 1):\n",
    "    # 1: Report size, rank, and condition number for each matrix A_k\n",
    "    \n",
    "    A_k          = np.delete(A, [x for x in range(k, size_A[0])], 1)\n",
    "    size_A_k     = get_size(A_k)\n",
    "    rank_A_k     = get_rank(A_k)\n",
    "    cond_num_A_k = get_condition_number(A_k)\n",
    "    \n",
    "    condition_numbers.append(cond_num_A_k)\n",
    "    \n",
    "    print(\"Matrix Size: {} x {}{:>10}Rank: {}{:>10}Condition #: {}\".format(size_A_k[0], size_A_k[1], '',rank_A_k, '', cond_num_A_k))\n",
    "    \n",
    "    # 2 Generate 100 random vectors b_i. For each b_i:    \n",
    "    b_is = generate_random_bs(size_A_k, num_bs)\n",
    "    \n",
    "    x_truth = []\n",
    "    \n",
    "    NE_errors = []\n",
    "    QR_errors = []\n",
    "    \n",
    "    i = 0\n",
    "    \n",
    "    for b_i in b_is:\n",
    "        # a.) use np.linalg.lstsq\n",
    "        x_truth.append(np.linalg.lstsq(A_k, b_i, rcond=None)[0])\n",
    "\n",
    "        # b.) use our NE\n",
    "        NE_errors.append(get_relative_error(NE_solver(A_k, b_i), x_truth[i]))\n",
    "\n",
    "        # c.) use our QR\n",
    "        QR_errors.append(get_relative_error(QR_solver(A_k, b_i), x_truth[i]))\n",
    "        \n",
    "        i+=1\n",
    "        \n",
    "    NE_avg_errors.append(np.mean(NE_errors))\n",
    "    QR_avg_errors.append(np.mean(QR_errors))"
   ]
  },
  {
   "cell_type": "code",
   "execution_count": 7,
   "metadata": {},
   "outputs": [
    {
     "data": {
      "text/plain": [
       "<matplotlib.legend.Legend at 0x117464fd0>"
      ]
     },
     "execution_count": 7,
     "metadata": {},
     "output_type": "execute_result"
    },
    {
     "data": {
      "image/png": "[encoded data removed]",
      "text/plain": [
       "<Figure size 432x288 with 1 Axes>"
      ]
     },
     "metadata": {
      "needs_background": "light"
     },
     "output_type": "display_data"
    }
   ],
   "source": [
    "k = [n for n in range(lower_bound, upper_bound + 1)]\n",
    "plt.semilogy(k, NE_avg_errors, '-o', label='NE')\n",
    "plt.semilogy(k, QR_avg_errors, '-x', label='QR')\n",
    "\n",
    "plt.xlim([lower_bound, upper_bound])\n",
    "plt.xlabel(\"$Num.\\ Columns:\\ \\\\bf{k}$\", fontsize='xx-large')\n",
    "plt.ylabel(\"$Least\\ Squared\\ Error$\", fontsize='xx-large')\n",
    "plt.legend()"
   ]
  },
  {
   "cell_type": "code",
   "execution_count": 8,
   "metadata": {},
   "outputs": [
    {
     "data": {
      "text/plain": [
       "Text(0, 0.5, '$Condition\\\\ Number$')"
      ]
     },
     "execution_count": 8,
     "metadata": {},
     "output_type": "execute_result"
    },
    {
     "data": {
      "image/png": "[encoded data removed]",
      "text/plain": [
       "<Figure size 432x288 with 1 Axes>"
      ]
     },
     "metadata": {
      "needs_background": "light"
     },
     "output_type": "display_data"
    }
   ],
   "source": [
    "plt.semilogy(k, condition_numbers, '-o')\n",
    "\n",
    "plt.xlim([lower_bound, upper_bound])\n",
    "plt.xlabel(\"$Num.\\ Columns:\\ \\\\bf{k}$\", fontsize='xx-large')\n",
    "plt.ylabel(\"$Condition\\ Number$\", fontsize='xx-large')"
   ]
  },
  {
   "cell_type": "markdown",
   "metadata": {},
   "source": [
    "---\n",
    "\n",
    "##### What's going on specifically?\n",
    "1. What is the relationship between the error using QR versus the Normal Equations?\n",
    "    \n",
    "    - Well, the error is always lower for the QR method and appears to grow slower than the error for NE.\n",
    "\n",
    "\n",
    "2. What is the relationship between the errors and the condition number of $A_{k}$?\n",
    "    \n",
    "    - As $k$ increases, the condition number also increases. Also, in both cases (QR and NE), as $k$ increases the error increases as well. Thus, as the condition number increases, so does the error. The more ill-condtioned the matrix $A$, the more error we are likely to encounter in either method.\n",
    "\n",
    "\n",
    "3. Suppose your matrix A is ill-conditioned. Which method is more favorable?\n",
    "    \n",
    "    - Using the QR factorization method gives preferable results over the NE method the more ill-conditioned the matrix A is.\n",
    "\n",
    "---"
   ]
  },
  {
   "cell_type": "code",
   "execution_count": 9,
   "metadata": {},
   "outputs": [
    {
     "name": "stdout",
     "output_type": "stream",
     "text": [
      "Matrix Size: 101 x 40          Rank: 40          Condition #: 74.87666090810826\n",
      "Matrix Size: 101 x 41          Rank: 41          Condition #: 103.8003645382863\n",
      "Matrix Size: 101 x 42          Rank: 42          Condition #: 152.28560787895904\n",
      "Matrix Size: 101 x 43          Rank: 43          Condition #: 217.56037976335608\n",
      "Matrix Size: 101 x 44          Rank: 44          Condition #: 328.8920284188323\n",
      "Matrix Size: 101 x 45          Rank: 45          Condition #: 483.78052898531325\n",
      "Matrix Size: 101 x 46          Rank: 46          Condition #: 753.0464969101012\n",
      "Matrix Size: 101 x 47          Rank: 47          Condition #: 1140.074224074018\n",
      "Matrix Size: 101 x 48          Rank: 48          Condition #: 1826.7931127929296\n",
      "Matrix Size: 101 x 49          Rank: 49          Condition #: 2846.422274367003\n",
      "Matrix Size: 101 x 50          Rank: 50          Condition #: 4695.087418605814\n",
      "Matrix Size: 101 x 51          Rank: 51          Condition #: 7530.548252627645\n",
      "Matrix Size: 101 x 52          Rank: 52          Condition #: 12789.376548943541\n",
      "Matrix Size: 101 x 53          Rank: 53          Condition #: 21122.716873833033\n",
      "Matrix Size: 101 x 54          Rank: 54          Condition #: 36949.483208821104\n",
      "Matrix Size: 101 x 55          Rank: 55          Condition #: 62868.3336613421\n",
      "Matrix Size: 101 x 56          Rank: 56          Condition #: 113329.35745274856\n",
      "Matrix Size: 101 x 57          Rank: 57          Condition #: 198770.68211633232\n",
      "Matrix Size: 101 x 58          Rank: 58          Condition #: 369475.9186767642\n",
      "Matrix Size: 101 x 59          Rank: 59          Condition #: 668493.2863248118\n",
      "Matrix Size: 101 x 60          Rank: 60          Condition #: 1282274.0199731383\n",
      "Matrix Size: 101 x 61          Rank: 61          Condition #: 2395303.2392507466\n",
      "Matrix Size: 101 x 62          Rank: 62          Condition #: 4745459.925371381\n",
      "Matrix Size: 101 x 63          Rank: 63          Condition #: 9161533.464621153\n",
      "Matrix Size: 101 x 64          Rank: 64          Condition #: 18765738.011868987\n",
      "Matrix Size: 101 x 65          Rank: 65          Condition #: 37486287.289599456\n",
      "Matrix Size: 101 x 66          Rank: 66          Condition #: 79480970.29650849\n",
      "Matrix Size: 101 x 67          Rank: 67          Condition #: 164472450.07852012\n",
      "Matrix Size: 101 x 68          Rank: 68          Condition #: 361465866.1394589\n",
      "Matrix Size: 101 x 69          Rank: 69          Condition #: 775865225.9343792\n",
      "Matrix Size: 101 x 70          Rank: 70          Condition #: 1770198595.7177808\n",
      "Matrix Size: 101 x 71          Rank: 71          Condition #: 3947814021.7058296\n",
      "Matrix Size: 101 x 72          Rank: 72          Condition #: 9367731457.353228\n",
      "Matrix Size: 101 x 73          Rank: 73          Condition #: 21747572019.841785\n",
      "Matrix Size: 101 x 74          Rank: 74          Condition #: 53781717259.17473\n",
      "Matrix Size: 101 x 75          Rank: 75          Condition #: 130261644677.31293\n",
      "Matrix Size: 101 x 76          Rank: 76          Condition #: 336541027043.99634\n",
      "Matrix Size: 101 x 77          Rank: 77          Condition #: 852744409290.2677\n",
      "Matrix Size: 101 x 78          Rank: 78          Condition #: 2307965974448.4404\n",
      "Matrix Size: 101 x 79          Rank: 79          Condition #: 6136134208311.241\n",
      "Matrix Size: 101 x 80          Rank: 80          Condition #: 17450443327642.9\n",
      "Matrix Size: 101 x 81          Rank: 80          Condition #: 48837828457046.21\n",
      "Matrix Size: 101 x 82          Rank: 80          Condition #: 147116716672155.3\n",
      "Matrix Size: 101 x 83          Rank: 81          Condition #: 437276221660499.9\n",
      "Matrix Size: 101 x 84          Rank: 82          Condition #: 1212820541172284.2\n",
      "Matrix Size: 101 x 85          Rank: 83          Condition #: 4081729579025916.5\n",
      "Matrix Size: 101 x 86          Rank: 84          Condition #: 4077361174914699.0\n",
      "Matrix Size: 101 x 87          Rank: 85          Condition #: 1.188125797504966e+16\n",
      "Matrix Size: 101 x 88          Rank: 85          Condition #: 1.2557939116318112e+16\n",
      "Matrix Size: 101 x 89          Rank: 85          Condition #: 1.0082427910901002e+16\n",
      "Matrix Size: 101 x 90          Rank: 86          Condition #: 1.3449432090903292e+16\n",
      "Matrix Size: 101 x 91          Rank: 87          Condition #: 8528487496500653.0\n",
      "Matrix Size: 101 x 92          Rank: 88          Condition #: 8561875558373724.0\n",
      "Matrix Size: 101 x 93          Rank: 89          Condition #: 1.0902851931079224e+16\n",
      "Matrix Size: 101 x 94          Rank: 89          Condition #: 1.555185782388661e+16\n",
      "Matrix Size: 101 x 95          Rank: 89          Condition #: 1.4435497970845004e+16\n",
      "Matrix Size: 101 x 96          Rank: 90          Condition #: 9202864260003656.0\n",
      "Matrix Size: 101 x 97          Rank: 91          Condition #: 2.2932474870330028e+16\n",
      "Matrix Size: 101 x 98          Rank: 92          Condition #: 1.7922339039797716e+16\n",
      "Matrix Size: 101 x 99          Rank: 92          Condition #: 3.3361097136114316e+16\n",
      "Matrix Size: 101 x 100          Rank: 92          Condition #: 1.8108759955210304e+16\n"
     ]
    }
   ],
   "source": [
    "lower_bound = 40\n",
    "upper_bound = 100\n",
    "\n",
    "num_bs      = 100\n",
    "\n",
    "NE_avg_errors = []\n",
    "QR_avg_errors = []\n",
    "\n",
    "condition_numbers = []\n",
    "\n",
    "for k in range(lower_bound, upper_bound + 1):\n",
    "    # 1: Report size, rank, and condition number for each matrix A_k\n",
    "    \n",
    "    A_k          = np.delete(A, [x for x in range(k, size_A[0])], 1)\n",
    "    size_A_k     = get_size(A_k)\n",
    "    rank_A_k     = get_rank(A_k)\n",
    "    cond_num_A_k = get_condition_number(A_k)\n",
    "    \n",
    "    condition_numbers.append(cond_num_A_k)\n",
    "    \n",
    "    print(\"Matrix Size: {} x {}{:>10}Rank: {}{:>10}Condition #: {}\".format(size_A_k[0], size_A_k[1], '',rank_A_k, '', cond_num_A_k))\n",
    "    \n",
    "    # 2 Generate 100 random vectors b_i. For each b_i:    \n",
    "    b_is = generate_random_bs(size_A_k, num_bs)\n",
    "    \n",
    "    x_truth = []\n",
    "    \n",
    "    NE_errors = []\n",
    "    QR_errors = []\n",
    "    \n",
    "    i = 0\n",
    "    \n",
    "    for b_i in b_is:\n",
    "        # a.) use np.linalg.lstsq\n",
    "        x_truth.append(np.linalg.lstsq(A_k, b_i, rcond=None)[0])\n",
    "\n",
    "        # b.) use our NE\n",
    "#         NE_errors.append(get_relative_error(NE_solver(A_k, b_i), x_truth[i]))\n",
    "\n",
    "        # c.) use our QR\n",
    "        QR_errors.append(get_relative_error(QR_solver(A_k, b_i), x_truth[i]))\n",
    "        \n",
    "        i+=1\n",
    "        \n",
    "#     NE_avg_errors.append(np.mean(NE_errors))\n",
    "    QR_avg_errors.append(np.mean(QR_errors))"
   ]
  },
  {
   "cell_type": "code",
   "execution_count": 10,
   "metadata": {},
   "outputs": [
    {
     "data": {
      "text/plain": [
       "<matplotlib.legend.Legend at 0x117418150>"
      ]
     },
     "execution_count": 10,
     "metadata": {},
     "output_type": "execute_result"
    },
    {
     "data": {
      "image/png": "[encoded data removed]",
      "text/plain": [
       "<Figure size 432x288 with 1 Axes>"
      ]
     },
     "metadata": {
      "needs_background": "light"
     },
     "output_type": "display_data"
    }
   ],
   "source": [
    "k = [n for n in range(lower_bound, upper_bound + 1)]\n",
    "plt.semilogy(k, QR_avg_errors, '-x', label='QR')\n",
    "\n",
    "plt.xlim([lower_bound, upper_bound])\n",
    "plt.xlabel(\"$Num.\\ Columns:\\ \\\\bf{k}$\", fontsize='xx-large')\n",
    "plt.ylabel(\"$Least\\ Squared\\ Error$\", fontsize='xx-large')\n",
    "plt.legend()"
   ]
  },
  {
   "cell_type": "code",
   "execution_count": 11,
   "metadata": {},
   "outputs": [
    {
     "data": {
      "text/plain": [
       "Text(0, 0.5, '$Condition\\\\ Number$')"
      ]
     },
     "execution_count": 11,
     "metadata": {},
     "output_type": "execute_result"
    },
    {
     "data": {
      "image/png": "[encoded data removed]",
      "text/plain": [
       "<Figure size 432x288 with 1 Axes>"
      ]
     },
     "metadata": {
      "needs_background": "light"
     },
     "output_type": "display_data"
    }
   ],
   "source": [
    "plt.semilogy(k, condition_numbers, '-o')\n",
    "\n",
    "plt.xlim([lower_bound, upper_bound])\n",
    "plt.xlabel(\"$Num.\\ Columns:\\ \\\\bf{k}$\", fontsize='xx-large')\n",
    "plt.ylabel(\"$Condition\\ Number$\", fontsize='xx-large')"
   ]
  },
  {
   "cell_type": "markdown",
   "metadata": {},
   "source": [
    "---\n",
    "\n",
    "##### Bonus 1: Take $k_{max}$ up to 100. Something should break. What broke and why did it break? Any fixes?\n",
    "\n",
    "- So... the Cholesky method is what breaks.\n",
    "    - Breaks at size (101 x 67)\n",
    "    - LinAlgError: Matrix is not positive definite\n",
    "        - This is with np.linalg.cholesky... Let's try my own method.\n",
    "            - Cholesky appears to be out, although my method allowed me to get closer to $k=100$, my method doesn't check for the math error that numpy does.\n",
    "- Without Cholesky method running, I could see the condtion number and rank for every matrix...\n",
    "    - I remember in lecture, the rank(A) has to equal the number of columns for Cholesky to work.\n",
    "        - Making sure rank(A) is equal to its number of columns would be one way we could probably fix this. \n",
    "        - We might need to tweak A so its positive definite when we take $A^{T}A$ as well.\n",
    "- I got tired, didn't bother actually fixing the problem :/"
   ]
  },
  {
   "cell_type": "code",
   "execution_count": null,
   "metadata": {},
   "outputs": [],
   "source": []
  }
 ],
 "metadata": {
  "kernelspec": {
   "display_name": "Python 3",
   "language": "python",
   "name": "python3"
  },
  "language_info": {
   "codemirror_mode": {
    "name": "ipython",
    "version": 3
   },
   "file_extension": ".py",
   "mimetype": "text/x-python",
   "name": "python",
   "nbconvert_exporter": "python",
   "pygments_lexer": "ipython3",
   "version": "3.7.4"
  }
 },
 "nbformat": 4,
 "nbformat_minor": 2
}

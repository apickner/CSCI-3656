{
 "cells": [
  {
   "cell_type": "markdown",
   "metadata": {},
   "source": [
    "##### Numerical Computation\n",
    "\n",
    "##### Andrew Pickner\n",
    "\n",
    "I worked alone on this assignment."
   ]
  },
  {
   "cell_type": "markdown",
   "metadata": {},
   "source": [
    "# Find roots using quadratic...\n",
    "\n",
    "$f(x) = 4x^2 - 3x -3$\n",
    "\n",
    "I can't lie, I had to google the quadratic formula becuase I couldn't remember if `-b` was included in the denominator or not. It is...\n",
    "\n",
    "---\n",
    "\n",
    "And the quadratic formula is:\n",
    "\n",
    "$x = \\frac{-b \\pm \\sqrt{b^2 - 4ac}}{2a}$\n",
    "\n",
    "---\n",
    "\n",
    "and with our coefficients:\n",
    "\n",
    "$x = \\frac{-(-3) \\pm \\sqrt{(-3)^2 - 4\\cdot(4)\\cdot(-3)}}{2\\cdot(4)}$\n",
    "\n",
    "$x = \\frac{3 \\pm \\sqrt{9 + 48}}{8}$\n",
    "\n",
    "$x = \\frac{3 \\pm \\sqrt{57}}{8}$\n",
    "\n",
    "$x =  \\frac{3 \\pm 7.54983443527}{8}$\n",
    "\n",
    "---\n",
    "\n",
    "$x_1 = \\frac{3 - 7.54983443527}{8} = \\frac{-4.54983443527}{8} = \\boxed{-0.568729304409}$\n",
    "\n",
    "$x_2 = \\frac{3 + 7.54983443527}{8} = \\frac{10.54983443527}{8} = \\boxed{1.31872930441}$ \n",
    "\n",
    "---\n",
    "\n",
    "so our roots are:\n",
    "\n",
    "**x = `-0.568729304409`, `1.31872930441`**\n",
    "\n",
    "---"
   ]
  },
  {
   "cell_type": "markdown",
   "metadata": {},
   "source": [
    "# Implement bisection for root finding:\n",
    "\n",
    "I recognized the algorithm looking quite similar to binary search by cutting the sorted list in half at each iteration. \n",
    "\n",
    "I looked at these online resources: [GeeksForGeeks](https://www.geeksforgeeks.org/program-for-bisection-method/) and [Steemit](https://steemit.com/mathematics/@dkmathstats/the-bisection-method-with-python-code). The Steemit resource cites Sauer's textbook, which much of the content on the site looks like Sauer's examples which was a helpful reiteration of the material."
   ]
  },
  {
   "cell_type": "code",
   "execution_count": 1,
   "metadata": {},
   "outputs": [
    {
     "name": "stdout",
     "output_type": "stream",
     "text": [
      "The root is: f(-0.56873) = 0\n",
      "It took 20 iterations to get this answer...\n",
      "The root is: f(1.31873) = 0\n",
      "It took 20 iterations to get this answer...\n"
     ]
    },
    {
     "data": {
      "text/plain": [
       "(1.3187284469604492,\n",
       " [1.5,\n",
       "  1.25,\n",
       "  1.375,\n",
       "  1.3125,\n",
       "  1.34375,\n",
       "  1.328125,\n",
       "  1.3203125,\n",
       "  1.31640625,\n",
       "  1.318359375,\n",
       "  1.3193359375,\n",
       "  1.31884765625,\n",
       "  1.318603515625,\n",
       "  1.3187255859375,\n",
       "  1.31878662109375,\n",
       "  1.318756103515625,\n",
       "  1.3187408447265625,\n",
       "  1.3187332153320312,\n",
       "  1.3187294006347656,\n",
       "  1.3187274932861328,\n",
       "  1.3187284469604492])"
      ]
     },
     "execution_count": 1,
     "metadata": {},
     "output_type": "execute_result"
    }
   ],
   "source": [
    "f = lambda x: (4 * (x ** 2)) - (3 * x) - 3\n",
    "\n",
    "def bisection_rootfinder(f, a, b, ret_list=False):\n",
    "    if (f(a) * f(b)) >= 0: \n",
    "        print(\"f({}) * f({}) > 0... Choose new a & b\".format(a,b)) \n",
    "        return\n",
    "    \n",
    "    # smaller I make tolerance, \n",
    "    # smaller the error I get, \n",
    "    # longer the program runs...\n",
    "    tolerance = 0.000001\n",
    "    i = 0\n",
    "    \n",
    "    l = list()\n",
    "    while (b-a) > tolerance:\n",
    "        # calculate our mid point\n",
    "        c = (a + b) / 2\n",
    "        l.append(c)\n",
    "        if f(c) == 0:\n",
    "            break\n",
    "        \n",
    "        # shrink from left\n",
    "        if (f(c) * f(a)) < 0: \n",
    "            b = c \n",
    "        # shrink from right\n",
    "        else: \n",
    "            a = c\n",
    "        \n",
    "        i += 1\n",
    "            \n",
    "    # all for this problem with our current f(x)        \n",
    "    # tolerance = 0.0000001, correct to 7 sigfigs  \n",
    "    # tolerance = 0.00000001, correct to 8 sigfigs        \n",
    "    print(\"The root is: f({:.5f}) = 0\".format(c))\n",
    "    if ret_list:\n",
    "        print(\"It took {} iterations to get this answer...\".format(i))\n",
    "        return c, l\n",
    "    return c\n",
    "\n",
    "bisection_rootfinder(f, -1, 0, True)        \n",
    "bisection_rootfinder(f, 1, 2, True)"
   ]
  },
  {
   "cell_type": "markdown",
   "metadata": {},
   "source": [
    "**Other Tests:**"
   ]
  },
  {
   "cell_type": "code",
   "execution_count": 2,
   "metadata": {},
   "outputs": [
    {
     "name": "stdout",
     "output_type": "stream",
     "text": [
      "The root is: f(-0.56873) = 0\n",
      "The root is: f(1.31873) = 0\n",
      "f(-1) * f(2) > 0... Choose new a & b\n"
     ]
    }
   ],
   "source": [
    "bisection_rootfinder(f, -1, 1.2)\n",
    "bisection_rootfinder(f, 0, 2)\n",
    "bisection_rootfinder(f, -1, 2)"
   ]
  },
  {
   "cell_type": "markdown",
   "metadata": {},
   "source": [
    "# Transform the function `f` into a function `g` for a fixed point problem:\n",
    "\n",
    "I just used Sauer's textbook to help me answer this problem."
   ]
  },
  {
   "cell_type": "markdown",
   "metadata": {},
   "source": [
    "$f(x) = 4x^2 -3x -3$\n",
    "\n",
    "To use $f(x)$ in a rootfinding context, we must set it equal to zero, and get an x alone on one side like so:\n",
    "\n",
    "$4x^2 -3x -3 = 0$\n",
    "\n",
    "$(-1)\\cdot4x^2 -3x = (-1)\\cdot3$\n",
    "\n",
    "$-4x^2 + 3x = -3$\n",
    "\n",
    "$3x = 4x^2-3$\n",
    "\n",
    "$x = \\frac{4x^2-3}{3}$\n",
    "\n",
    "which I rewrote as: \n",
    "\n",
    "$x = \\frac{4}{3}x^2 - 1$\n",
    "\n",
    "---\n",
    "\n",
    "So, after some considerations, the function `g` that I arrived at above is not convergent. I put in a lot of effort on this one and found **MANY** functions that are acceptable `g`'s besides the fact that they don't converge to both points. Maybe I'm missing something and we don't need to find one that converges to both, but that is what I was trying to do.\n",
    "\n",
    "Here are some of the other functions `g` that I found:\n",
    "- $g(x)=4x^2-3x-3$\n",
    "- $g(x)=\\frac{3}{4x-3}$\n",
    "- $g(x)=\\frac{2}{x-1}-3x-1$\n",
    "- $g(x)=\\frac{3}{4x}+\\frac{3}{4}$\n",
    "\n",
    "I even went down the rabbit hole of trying to square root some quantity.\n",
    "\n",
    "Ultimately, $g(x)=\\frac{3}{4x-3}$ converges to one of the zeros, more specifically to `-0.56`, so I will use this `g` moving forward, even though it is not entirely convergent :/"
   ]
  },
  {
   "cell_type": "code",
   "execution_count": 3,
   "metadata": {},
   "outputs": [
    {
     "name": "stdout",
     "output_type": "stream",
     "text": [
      "0.00000000000022370994\n",
      "-0.00000000000383715282\n"
     ]
    }
   ],
   "source": [
    "# and just to test my math:\n",
    "f2 = lambda x: ( (3) / ((4 * x) - 3) )\n",
    "\n",
    "# relatively close, again it gets closer as we use more sigfigs...\n",
    "print(\"{:.20f}\".format(f2(-0.568729304409) + 0.568729304409))\n",
    "print(\"{:.20f}\".format(f2(1.31872930441) - 1.31872930441))"
   ]
  },
  {
   "cell_type": "markdown",
   "metadata": {},
   "source": [
    "# Implement the fixed point method for rootfinding:"
   ]
  },
  {
   "cell_type": "code",
   "execution_count": 4,
   "metadata": {},
   "outputs": [],
   "source": [
    "def fixedpoint_rootfinding(g, x0, maxiter, ret_list=False):\n",
    "    err = 1\n",
    "    i = 0\n",
    "    xp = []\n",
    "    \n",
    "    tolerance = 0.000001\n",
    "    while(err >= tolerance and i < maxiter):\n",
    "        x = g(x0)        # fixed point equation\n",
    "        err = abs(x0-x) # error at the current step\n",
    "#         print(\"x: {}, x0: {}, err: {:.5f}\".format(x, x0, abs(x0-x)))\n",
    "        x0 = x\n",
    "        xp.append(x0)    # save the solution of the current step\n",
    "        i += 1\n",
    "    if ret_list:\n",
    "        return x, xp\n",
    "    return x"
   ]
  },
  {
   "cell_type": "code",
   "execution_count": 5,
   "metadata": {},
   "outputs": [
    {
     "data": {
      "text/plain": [
       "(-0.5687295412736919,\n",
       " [-0.6,\n",
       "  -0.5555555555555555,\n",
       "  -0.574468085106383,\n",
       "  -0.5662650602409638,\n",
       "  -0.5697940503432495,\n",
       "  -0.5682704811443433,\n",
       "  -0.5689272503082614,\n",
       "  -0.5686439489552657,\n",
       "  -0.5687661180974664,\n",
       "  -0.5687134281869453,\n",
       "  -0.5687361514405368,\n",
       "  -0.5687263515000546,\n",
       "  -0.5687305779147228,\n",
       "  -0.5687287551836079,\n",
       "  -0.5687295412736919])"
      ]
     },
     "execution_count": 5,
     "metadata": {},
     "output_type": "execute_result"
    }
   ],
   "source": [
    "fixedpoint_rootfinding(f2, -0.5, 15, True)"
   ]
  },
  {
   "cell_type": "markdown",
   "metadata": {},
   "source": [
    "So it does in fact converge to our zero: `-0.568729304409`\n",
    "\n",
    "---"
   ]
  },
  {
   "cell_type": "markdown",
   "metadata": {},
   "source": [
    "# Error of Bisection and Fixed-Point Methods"
   ]
  },
  {
   "cell_type": "code",
   "execution_count": 6,
   "metadata": {},
   "outputs": [
    {
     "name": "stdout",
     "output_type": "stream",
     "text": [
      "The root is: f(-0.56873) = 0\n",
      "It took 22 iterations to get this answer...\n",
      "[-0.5, -1.25, -0.875, -0.6875, -0.59375, -0.546875, -0.5703125, -0.55859375, -0.564453125, -0.5673828125, -0.56884765625, -0.568115234375, -0.5684814453125, -0.56866455078125, -0.568756103515625, -0.5687103271484375, -0.5687332153320312, -0.5687217712402344, -0.5687274932861328, -0.568730354309082, -0.5687289237976074, -0.5687296390533447] [0.06872930440900005, -0.681270695591, -0.30627069559099995, -0.11877069559099995, -0.025020695590999953, 0.021854304409000047, -0.0015831955909999529, 0.010135554409000047, 0.004276179409000047, 0.0013464919090000471, -0.00011835184099995288, 0.0006140700340000471, 0.0002478590965000471, 6.475362775004712e-05, -2.6799106624952884e-05, 1.8977260562547116e-05, -3.910923031202884e-06, 7.533168765672116e-06, 1.8111228672346158e-06, -1.0499000819841342e-06, 3.806113926252408e-07, -3.346443446794467e-07]\n",
      "[-0.6, -0.5555555555555555, -0.574468085106383, -0.5662650602409638, -0.5697940503432495, -0.5682704811443433, -0.5689272503082614, -0.5686439489552657, -0.5687661180974664, -0.5687134281869453, -0.5687361514405368, -0.5687263515000546, -0.5687305779147228, -0.5687287551836079, -0.5687295412736919] [-0.03127069559099993, 0.013173748853444578, -0.005738780697382984, 0.002464244168036256, -0.0010647459342494336, 0.00045882326465673806, -0.00019794589926136474, 8.535545373433706e-05, -3.681368846630839e-05, 1.5876222054789224e-05, -6.847031536749704e-06, 2.9529089454749524e-06, -1.2735057227653002e-06, 5.492253921657309e-07, -2.368646918604611e-07]\n"
     ]
    },
    {
     "data": {
      "image/png": "[encoded data removed]",
      "text/plain": [
       "<Figure size 432x288 with 1 Axes>"
      ]
     },
     "metadata": {},
     "output_type": "display_data"
    }
   ],
   "source": [
    "%matplotlib inline\n",
    "import matplotlib.pyplot as plt\n",
    "plt.style.use('seaborn-whitegrid')\n",
    "\n",
    "import numpy as np\n",
    "\n",
    "r = -0.568729304409\n",
    "\n",
    "# -1 and 0 as my interval because it gave me roughly 17 iterations\n",
    "bs_r, bs_xs = bisection_rootfinder(f, -2, 1, True)\n",
    "\n",
    "# roughly 12 iterations\n",
    "fp_r, fp_xs = fixedpoint_rootfinding(f2, -0.5, 15, True)\n",
    "\n",
    "bs_err = list(map(lambda x: x - r, bs_xs))\n",
    "print(bs_xs, bs_err)\n",
    "\n",
    "fp_err = list(map(lambda x: x - r, fp_xs))\n",
    "print(fp_xs, fp_err)\n",
    "\n",
    "fig = plt.figure()\n",
    "ax1 = plt.axes()\n",
    "\n",
    "ax1.set_xlabel(\"$\\\\bf{Iteration}$\", fontsize=12)\n",
    "ax1.set_ylabel(\"$\\\\bf{Error}$\", fontsize=12)\n",
    "ax1.set_yscale('log')\n",
    "\n",
    "bs_iters = [i+1 for i in range(len(bs_err))]\n",
    "fp_iters = [i+1 for i in range(len(fp_err))]\n",
    "\n",
    "plt.plot(bs_iters, bs_err, '-o', color='red', label='Bisection')\n",
    "plt.plot(fp_iters, fp_err, '-x', color='blue', label='Fixed Point')\n",
    "\n",
    "leg = ax1.legend(loc='upper right', frameon=True)"
   ]
  },
  {
   "cell_type": "markdown",
   "metadata": {},
   "source": [
    "I spent a solid hour and a half trying to figure out how to get this to work properly and it barely looks even *close* to your plot so I gave up. "
   ]
  },
  {
   "cell_type": "code",
   "execution_count": null,
   "metadata": {},
   "outputs": [],
   "source": []
  }
 ],
 "metadata": {
  "kernelspec": {
   "display_name": "Python 3",
   "language": "python",
   "name": "python3"
  },
  "language_info": {
   "codemirror_mode": {
    "name": "ipython",
    "version": 3
   },
   "file_extension": ".py",
   "mimetype": "text/x-python",
   "name": "python",
   "nbconvert_exporter": "python",
   "pygments_lexer": "ipython3",
   "version": "3.7.4"
  }
 },
 "nbformat": 4,
 "nbformat_minor": 2
}

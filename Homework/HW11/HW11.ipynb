{
 "cells": [
  {
   "cell_type": "markdown",
   "metadata": {},
   "source": [
    "##### Numerical Computation: HW11\n",
    "\n",
    "##### Andrew Pickner\n",
    "\n",
    "I worked alone on this assignment.\n",
    "\n",
    "---"
   ]
  },
  {
   "cell_type": "code",
   "execution_count": 1,
   "metadata": {},
   "outputs": [],
   "source": [
    "# imports\n",
    "import numpy as np\n",
    "import quadpy as qp\n",
    "\n",
    "%matplotlib inline\n",
    "import matplotlib.pyplot as plt\n",
    "plt.style.use('seaborn-whitegrid')"
   ]
  },
  {
   "cell_type": "code",
   "execution_count": 2,
   "metadata": {},
   "outputs": [],
   "source": [
    "f = lambda x: np.sin(2 * x) + np.cos(3 * x)"
   ]
  },
  {
   "cell_type": "markdown",
   "metadata": {},
   "source": [
    "---\n",
    "\n",
    "**(a)** Compute: $\\int_{-1}^{1}(\\text{sin}(2x)+\\text{cos}(3x))\\ dx$\n",
    "\n",
    "We can initially break up the problem into two intervals, which might help a little down the road.\n",
    "\n",
    "$\\int \\text{f}(x)\\ dx\\ + \\int \\text{g}(x)\\ dx$\n",
    "\n",
    "In our case, we have an $\\text{f}(x)$ and a $\\text{g}(x)$:\n",
    "\n",
    "$\\text{f}(x) = \\text{sin}(2x)$\n",
    "\n",
    "$\\text{g}(x) = \\text{cos}(3x)$\n",
    "\n",
    "$\\int_{-1}^{1}\\text{sin}(2x)\\ dx\\ + \\int_{-1}^{1}\\text{cos}(3x)\\ dx$\n",
    "\n",
    "The anti-derivative of $\\text{f}(x) = \\text{sin}(2x)$ is $-\\frac{1}{2}\\text{cos}(2x)$. \n",
    "\n",
    "Similarly, the anti-derivative of $\\text{g}(x) = \\text{cos}(3x)$ is $\\frac{1}{3}\\text{sin}(3x)$. \n",
    "\n",
    "Thus, we'd need to compute $-\\frac{1}{2}\\text{cos}(2x)$ and $\\frac{1}{3}\\text{sin}(3x)$ both on the interval: $[-1,\\ 1]$.\n",
    "\n",
    "$-\\frac{1}{2}\\text{cos}(2x) |_{-1}^{1} = -\\frac{1}{2}\\text{cos}(2) - (-\\frac{1}{2}\\text{cos}(-2)) = 0$\n",
    "\n",
    "We get zero above because of the double negation and the fact that $\\text{cos}(2) = \\text{cos}(-2)$.\n",
    "\n",
    "$\\frac{1}{3}\\text{sin}(3x) |_{-1}^{1} = \\frac{1}{3}\\text{sin}(3) - (\\frac{1}{3}\\text{sin}(-3)) = \\frac{2\\text{sin}(3)}{3}\\approx 0.0940800053732448147338298685387401865646221761681770561012550941$\n",
    "\n",
    "The reason we get 2 of the same term in this case is because $-\\text{sin}(3) = \\text{sin}(-3)$.\n",
    "\n",
    "*(According to Wolfram Alpha)*\n",
    "\n",
    "And now, because our integration of $\\text{g}(x)$ on the interval $[-1,\\ 1]$ gave us zero, we can just take the integration of $\\text{f}(x)$ on the interval $[-1,\\ 1]$ as our answer.\n",
    "\n",
    "$0.0940800053 + 0 = 0.0940800053$\n",
    "\n",
    "Below, I'll calculate this number in python:\n",
    "\n",
    "---"
   ]
  },
  {
   "cell_type": "code",
   "execution_count": 3,
   "metadata": {},
   "outputs": [
    {
     "name": "stdout",
     "output_type": "stream",
     "text": [
      "0.0940800053732448\n"
     ]
    }
   ],
   "source": [
    "truth = (2 * np.sin(3)) / 3\n",
    "print(truth)"
   ]
  },
  {
   "cell_type": "code",
   "execution_count": 4,
   "metadata": {},
   "outputs": [],
   "source": [
    "def trapezoid(f,a,b,n):\n",
    "    # number of bins/subintervals\n",
    "    xs = np.linspace(a,b,n+1)\n",
    "    # size of bin/subinterval\n",
    "    h = (b-a)/n\n",
    "    # all of xs except the first and last item...\n",
    "    i = xs[1:-1]\n",
    "    # simpson's rule as given in lecture:\n",
    "    return (h/2) * (f(a) + f(b) + (2 * sum(f(i))))"
   ]
  },
  {
   "cell_type": "code",
   "execution_count": 5,
   "metadata": {},
   "outputs": [],
   "source": [
    "def simpsons(f,a,b,n):\n",
    "    # this method requires an odd number of points to make an even number of subintervals?\n",
    "    # it just requires three points for every subinterval, or 2m+1\n",
    "    # you used '2m+1' in class which made sense initially, but as I dug deeper... \n",
    "    # This method converged well when I have this line left in, \n",
    "    # and when I commented it, the trapezoid rule outperformed it.\n",
    "    if n % 2 == 1:\n",
    "        n-=1\n",
    "    xs    = np.linspace(a,b,n+1)\n",
    "    h     = (b-a)/n\n",
    "    ys    = f(xs)\n",
    "    i   = ys[1:-1:2]\n",
    "    ii = ys[2:-1:2]\n",
    "    return (h/3) * (f(a) + f(b) + (4 * sum(i)) + (2 * sum(ii)))"
   ]
  },
  {
   "cell_type": "code",
   "execution_count": 6,
   "metadata": {},
   "outputs": [],
   "source": [
    "def clen_curt(f,a,b,n):\n",
    "    # given to us on piazza\n",
    "    scheme = qp.c1.clenshaw_curtis(n)\n",
    "    p, w = scheme.points, scheme.weights\n",
    "    # we just sum over f at the points multiplied by the corresponding weight\n",
    "    return sum(f(p)*w)"
   ]
  },
  {
   "cell_type": "code",
   "execution_count": 7,
   "metadata": {},
   "outputs": [],
   "source": [
    "interval = -1, 1"
   ]
  },
  {
   "cell_type": "code",
   "execution_count": 8,
   "metadata": {},
   "outputs": [],
   "source": [
    "def run_test(f, a, b, truth, k=20):\n",
    "    ns           = []\n",
    "\n",
    "    trap_results = []\n",
    "    simp_results = []\n",
    "    cc_results   = []\n",
    "    \n",
    "    trap_error   = []\n",
    "    simp_error   = []\n",
    "    cc_error     = []\n",
    "\n",
    "    for i in range(1, k+1):\n",
    "        n = (2 ** i) + 1\n",
    "        ns.append(n)\n",
    "        \n",
    "        print(\"Number of points: {}\".format(n))\n",
    "\n",
    "        trap_results.append(trapezoid(f, a, b, n))\n",
    "        simp_results.append(simpsons(f, a, b, n))\n",
    "        cc_results.append(clen_curt(f, a, b, n))\n",
    "        \n",
    "        trap_error.append(abs(trap_results[i-1] - truth))\n",
    "        simp_error.append(abs(simp_results[i-1] - truth))\n",
    "        cc_error.append(abs(cc_results[i-1] - truth))\n",
    "    \n",
    "    print(trap_results)\n",
    "    print(simp_results)\n",
    "    print(cc_results)\n",
    "    \n",
    "    plt.loglog(ns, trap_error, '-o', label='$trap$')\n",
    "    plt.loglog(ns, simp_error, '-x', label='$simp$')\n",
    "    plt.loglog(ns, cc_error, '-o', label='$cc$')\n",
    "\n",
    "    plt.xlabel(\"$n$\", fontsize='xx-large')\n",
    "    plt.ylabel(\"$error$\", fontsize='xx-large')\n",
    "\n",
    "    plt.legend()"
   ]
  },
  {
   "cell_type": "code",
   "execution_count": 9,
   "metadata": {
    "scrolled": false
   },
   "outputs": [
    {
     "name": "stdout",
     "output_type": "stream",
     "text": [
      "Number of points: 3\n",
      "Number of points: 5\n",
      "Number of points: 9\n",
      "Number of points: 17\n",
      "Number of points: 33\n",
      "Number of points: 65\n",
      "Number of points: 129\n",
      "Number of points: 257\n",
      "Number of points: 513\n",
      "Number of points: 1025\n",
      "Number of points: 2049\n",
      "Number of points: 4097\n",
      "Number of points: 8193\n",
      "Number of points: 16385\n",
      "Number of points: 32769\n",
      "Number of points: 65537\n",
      "Number of points: 131073\n",
      "Number of points: 262145\n",
      "Number of points: 524289\n",
      "Number of points: 1048577\n",
      "[0.06040807675722274, 0.08250981753309494, 0.09056947383040143, 0.09310136272656408, 0.09382068889688311, 0.09401319351391355, 0.09406304424152495, 0.09407573214306611, 0.09407893290399579, 0.09407973673297998, 0.09407993814763753, 0.09407998855864055, 0.09408000116856949, 0.09408000432194755, 0.09408000511040525, 0.09408000530754014, 0.09408000535681513, 0.09408000536914896, 0.09408000537220185, 0.0940800053730068]\n",
      "[0.673338335599703, 0.09765210335678876, 0.09425714855654801, 0.09409051693823425, 0.09408065408305855, 0.09408004579028685, 0.09408000789732743, 0.09408000553096946, 0.09408000538310213, 0.09408000537386031, 0.0940800053732837, 0.0940800053732471, 0.09408000537324443, 0.09408000537324408, 0.0940800053732479, 0.09408000537324775, 0.09408000537324299, 0.09408000537324453, 0.09408000537322275, 0.09408000537324474]\n",
      "[0.6733383355997029, 0.1099915132118275, 0.09408091011294152, 0.09408000537324623, 0.09408000537324468, 0.09408000537324486, 0.09408000537324422, 0.09408000537324383, 0.0940800053732449, 0.09408000537324528, 0.09408000537324403, 0.09408000537324615, 0.09408000537324487, 0.09408000537324329, 0.0940800053732461, 0.09408000537324704, 0.09408000537323855, 0.09408000537323226, 0.09408000537322046, 0.09408000537326419]\n"
     ]
    },
    {
     "data": {
      "image/png": "[encoded data removed]",
      "text/plain": [
       "<Figure size 432x288 with 1 Axes>"
      ]
     },
     "metadata": {
      "needs_background": "light"
     },
     "output_type": "display_data"
    }
   ],
   "source": [
    "run_test(f, interval[0], interval[1], truth)"
   ]
  },
  {
   "cell_type": "markdown",
   "metadata": {},
   "source": [
    "---\n",
    "\n",
    "Well, for starters: it appears that the trapezoid rule is indeed second order, simpson's rule appears to be 4th order (and converge quicker than the trapezoid rule), and the clenshaw-curtis method converges the quickest (I was a little confused on the error for the clenshaw-curtis method from lecture). In fact, it looks as though the 4th ordered simpson's rule converges twice as fast as the second ordered trapezoid rule (which makes perfect intuitive sense). I just got discouraged last assignment where we were supposed to find the slope of this line (but mine seemed way off).\n",
    "\n",
    "As for asymptotic regime: the trapezoid method seems to improve over the entire set of $n$'s I threw at it. Where simpson's rule and the clenshaw-curtis method both appear to get a little jumpy as $n$ gets really large. I'd say once $n>100$ for the clenshaw-curtis rule begins to exhibit some interesting behavior, and when $n>10,000$ simpson's rule does the same.\n",
    "\n",
    "---"
   ]
  },
  {
   "cell_type": "code",
   "execution_count": 10,
   "metadata": {},
   "outputs": [],
   "source": [
    "f2 = lambda x: np.sign(x + 0.2) + 1"
   ]
  },
  {
   "cell_type": "markdown",
   "metadata": {},
   "source": [
    "**(a)** Compute: $\\int_{-1}^{1}(\\text{sign}(x + 0.2)+1\\ dx$\n",
    "\n",
    "So from $[-1, -0.2)$ our integral would be equal to $0$, because the sign function would be returning $-1$ (and we'd just add $1$ to that). So now, to solve the remaining part of our integral, we need to find the length of the subinterval that produces a positive value from the sign function, and multiply this length by 2 to get the area because we are adding $1$ to the sign function result. Thus, we get $2\\cdot 1-(-0.2) = 2 \\cdot 1.2 = \\boxed{2.4}$"
   ]
  },
  {
   "cell_type": "code",
   "execution_count": 11,
   "metadata": {},
   "outputs": [],
   "source": [
    "truth2 = 2.4"
   ]
  },
  {
   "cell_type": "code",
   "execution_count": 12,
   "metadata": {},
   "outputs": [
    {
     "name": "stdout",
     "output_type": "stream",
     "text": [
      "Number of points: 3\n",
      "Number of points: 5\n",
      "Number of points: 9\n",
      "Number of points: 17\n",
      "Number of points: 33\n",
      "Number of points: 65\n",
      "Number of points: 129\n",
      "Number of points: 257\n",
      "Number of points: 513\n",
      "Number of points: 1025\n",
      "Number of points: 2049\n",
      "Number of points: 4097\n",
      "Number of points: 8193\n",
      "Number of points: 16385\n",
      "Number of points: 32769\n",
      "Number of points: 65537\n",
      "Number of points: 131073\n",
      "Number of points: 262145\n",
      "Number of points: 524289\n",
      "Number of points: 1048577\n",
      "[2.0, 2.8000000000000003, 2.444444444444444, 2.4705882352941178, 2.3636363636363638, 2.430769230769231, 2.4031007751937983, 2.404669260700389, 2.39766081871345, 2.401951219512195, 2.4001952171791117, 2.400292897241884, 2.399853533504211, 2.400122062862374, 2.400012206658732, 2.4000183102674826, 2.3999908447964113, 2.4000076293654278, 2.400000762937998, 2.400001144408088]\n",
      "[3.333333333333333, 2.333333333333333, 2.1666666666666665, 2.4166666666666665, 2.458333333333333, 2.395833333333333, 2.3854166666666665, 2.4010416666666665, 2.403645833333333, 2.399739583333333, 2.3990885416666665, 2.4000651041666665, 2.400227864583333, 2.399983723958333, 2.3999430338541665, 2.4000040690104165, 2.400014241536458, 2.3999989827473955, 2.3999964396158853, 2.400000254313151]\n",
      "[3.333333333333334, 2.8000000000000003, 2.393650793650793, 2.581437855047742, 2.486159606088856, 2.4382467285224316, 2.4142331649986666, 2.4022117944989643, 2.3961974430235573, 2.3992036717992895, 2.4007065496132025, 2.3999550519979618, 2.4003307860728524, 2.400142915359116, 2.4000489790831514, 2.400002010715453, 2.399978526474052, 2.3999902685803765, 2.399996139629942, 2.3999990751537545]\n"
     ]
    },
    {
     "data": {
      "image/png": "[encoded data removed]",
      "text/plain": [
       "<Figure size 432x288 with 1 Axes>"
      ]
     },
     "metadata": {
      "needs_background": "light"
     },
     "output_type": "display_data"
    }
   ],
   "source": [
    "run_test(f2, interval[0], interval[1], truth2)"
   ]
  },
  {
   "cell_type": "markdown",
   "metadata": {},
   "source": [
    "---\n",
    "\n",
    "Well, it seems as though the stability is gone. Although I could reason through an answer for the integral (and check this answer using Desmos), I'm not entirely convinced this is an integratable function. Maybe it is, but its the fact that there's a jump in the graph indicates a potential reason why our error oscillates. \n",
    "\n",
    "---"
   ]
  }
 ],
 "metadata": {
  "kernelspec": {
   "display_name": "Python 3",
   "language": "python",
   "name": "python3"
  },
  "language_info": {
   "codemirror_mode": {
    "name": "ipython",
    "version": 3
   },
   "file_extension": ".py",
   "mimetype": "text/x-python",
   "name": "python",
   "nbconvert_exporter": "python",
   "pygments_lexer": "ipython3",
   "version": "3.7.4"
  }
 },
 "nbformat": 4,
 "nbformat_minor": 2
}

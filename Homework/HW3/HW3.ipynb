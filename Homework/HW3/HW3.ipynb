{
 "cells": [
  {
   "cell_type": "markdown",
   "metadata": {},
   "source": [
    "##### Numerical Computation\n",
    "\n",
    "##### Andrew Pickner\n",
    "\n",
    "I worked alone on this assignment."
   ]
  },
  {
   "cell_type": "markdown",
   "metadata": {},
   "source": [
    "# Compute the derivative of `f(x)`\n",
    "\n",
    "$f(x) = \\frac{1}{1+e^x} - \\frac{1}{2}$\n",
    "\n",
    "My differentiation skills are not ideal when it comes to anything that isn't a polynomial, but luckily I know some great online resources. \n",
    "\n",
    "Initially, I wanted to see what `f(x)` looked like so I checked out Desmos. This function seemed relatively easy to visualize `f'(x)`.\n",
    "\n",
    "Wolfram Alpha and Symbolab both gave me $f'(x)=-\\frac{e^x}{(1+e^x)^2}$, which I then plugged back into Desmos and all looked correct! Plus, I confirmed the real root `r` is $0$."
   ]
  },
  {
   "cell_type": "markdown",
   "metadata": {},
   "source": [
    "# Implement Newton's method\n",
    "\n",
    "So obviously class and Sauer's textbook were helpful in developing pseudocode, I found this [website](https://moonbooks.org/Articles/How-to-use-the-Newtons-method-in-python-/) to have a nice and concise write-up and I liked the code style they used so I modeled mine after theirs. When thinking about the 'interface', I chose to add a parameter for `f'(x)` as opposed to using scipy to differentiate `f(x)` because this seemed a little hacky"
   ]
  },
  {
   "cell_type": "code",
   "execution_count": 22,
   "metadata": {},
   "outputs": [
    {
     "name": "stdout",
     "output_type": "stream",
     "text": [
      "1.5516754209104165e-16\n"
     ]
    }
   ],
   "source": [
    "# it might be helpful to have tolerance as a parameter\n",
    "def newtons_method(f,Df,x0,epsilon,max_iter):\n",
    "    xn = x0\n",
    "    for n in range(0,max_iter):\n",
    "        fxn = f(xn)\n",
    "        if abs(fxn) < epsilon:\n",
    "#             print('Found solution after',n,'iterations.')\n",
    "            return xn\n",
    "        Dfxn = Df(xn)\n",
    "        if Dfxn == 0:\n",
    "#             print('Zero derivative. No solution found.')\n",
    "            return None\n",
    "        xn = xn - fxn/Dfxn\n",
    "#     print('Exceeded maximum iterations. No solution found.')\n",
    "    return None\n",
    "\n",
    "import numpy as np\n",
    "\n",
    "f       = lambda x: (((1) / (1 + np.exp(x))) - (1/2))\n",
    "f_prime = lambda x: ((- np.exp(x)) / ((1 + np.exp(x)) ** 2))\n",
    "\n",
    "print(newtons_method(f, f_prime, 0.5, 0.000000001, 20))"
   ]
  },
  {
   "cell_type": "markdown",
   "metadata": {},
   "source": [
    "# Choose an interval around `r=0` and check whether the points converge or not"
   ]
  },
  {
   "cell_type": "code",
   "execution_count": 36,
   "metadata": {},
   "outputs": [
    {
     "name": "stdout",
     "output_type": "stream",
     "text": [
      "[-0.177, 0.177]\n",
      "100.0%\n",
      "[-1.177, 1.177]\n",
      "100.0%\n",
      "[-2.177, 2.177]\n",
      "100.0%\n",
      "[-3.177, 3.177]\n"
     ]
    },
    {
     "name": "stderr",
     "output_type": "stream",
     "text": [
      "/usr/local/lib/python3.7/site-packages/ipykernel_launcher.py:13: RuntimeWarning: overflow encountered in double_scalars\n",
      "  del sys.path[0]\n",
      "/usr/local/lib/python3.7/site-packages/ipykernel_launcher.py:5: RuntimeWarning: invalid value encountered in double_scalars\n",
      "  \"\"\"\n",
      "/usr/local/lib/python3.7/site-packages/ipykernel_launcher.py:4: RuntimeWarning: overflow encountered in exp\n",
      "  after removing the cwd from sys.path.\n",
      "/usr/local/lib/python3.7/site-packages/ipykernel_launcher.py:5: RuntimeWarning: overflow encountered in exp\n",
      "  \"\"\"\n",
      "/usr/local/lib/python3.7/site-packages/ipykernel_launcher.py:5: RuntimeWarning: overflow encountered in double_scalars\n",
      "  \"\"\"\n"
     ]
    },
    {
     "name": "stdout",
     "output_type": "stream",
     "text": [
      "68.5%\n",
      "[-4.177, 4.177]\n",
      "52.1%\n"
     ]
    }
   ],
   "source": [
    "import numpy as np\n",
    "\n",
    "# function we are testing and its derivative\n",
    "f       = lambda x: (((1) / (1 + np.exp(x))) - (1/2))\n",
    "f_prime = lambda x: ((- np.exp(x)) / ((1 + np.exp(x)) ** 2))\n",
    "\n",
    "# change this number to play with the interval...\n",
    "boundry = 0.177\n",
    "\n",
    "grid_num = 2000\n",
    "for i in range(0, 5):\n",
    "    xs = np.linspace(-boundry - i, boundry + i, num=grid_num)\n",
    "    print(\"[{}, {}]\".format(-boundry - i, boundry + i))\n",
    "    count = 0\n",
    "    for each in xs:\n",
    "        ret = newtons_method(f, f_prime, each, 0.00001, 25)\n",
    "        if ret != None:\n",
    "            count += 1\n",
    "    print(\"{}%\".format((count / grid_num) * 100))"
   ]
  },
  {
   "cell_type": "markdown",
   "metadata": {},
   "source": [
    "I didn't do a very elegant experiment to find the interval on which everything converges. However, by screwing around with the variable `boundry`, I was able to see that 100% of points on the interval `[-2.177, 2.177]` converge and only 99.9% converge when we make the interval: `[-2.178, 2.178]`."
   ]
  },
  {
   "cell_type": "markdown",
   "metadata": {},
   "source": [
    "# Report the interval for which all initial guesses converge\n",
    "\n",
    "`[-2.177, 2.177]`\n",
    "\n",
    "This is the interval I found to be completely convergent in my little experiment above."
   ]
  },
  {
   "cell_type": "markdown",
   "metadata": {},
   "source": [
    "# Plot the function and the interval on which all guesses converge"
   ]
  },
  {
   "cell_type": "code",
   "execution_count": 53,
   "metadata": {},
   "outputs": [
    {
     "data": {
      "text/plain": [
       "[<matplotlib.lines.Line2D at 0x1116b53d0>]"
      ]
     },
     "execution_count": 53,
     "metadata": {},
     "output_type": "execute_result"
    },
    {
     "data": {
      "image/png": "[encoded data removed]",
      "text/plain": [
       "<Figure size 432x288 with 1 Axes>"
      ]
     },
     "metadata": {},
     "output_type": "display_data"
    }
   ],
   "source": [
    "%matplotlib inline\n",
    "import matplotlib.pyplot as plt\n",
    "plt.style.use('seaborn-whitegrid')\n",
    "\n",
    "n_left = -5\n",
    "n_right = 5\n",
    "xs = np.linspace(n_left, n_right, num=8000)\n",
    "\n",
    "fig = plt.figure()\n",
    "ax1 = plt.axes()\n",
    "\n",
    "ax1.set_xlabel(\"x\", fontsize=12)\n",
    "ax1.set_ylabel(\"$f(x)$\", fontsize=12)\n",
    "ax1.set_title(\"$\\\\bf{f(x)\\ and\\ the\\ interval\\ of\\ convergence}$\", fontsize=12)\n",
    "\n",
    "plt.xlim([n_left, n_right])\n",
    "\n",
    "plt.axvline(x=-2.177, color=\"red\")\n",
    "plt.axvline(x=2.177, color=\"red\")\n",
    "\n",
    "plt.plot(xs, f(xs))"
   ]
  },
  {
   "cell_type": "markdown",
   "metadata": {},
   "source": [
    "So I'm not entirely sure why the function converges on the interval it does, it seems odd that it only takes a change of `0.001` to make to function diverge."
   ]
  },
  {
   "cell_type": "code",
   "execution_count": null,
   "metadata": {},
   "outputs": [],
   "source": []
  }
 ],
 "metadata": {
  "kernelspec": {
   "display_name": "Python 3",
   "language": "python",
   "name": "python3"
  },
  "language_info": {
   "codemirror_mode": {
    "name": "ipython",
    "version": 3
   },
   "file_extension": ".py",
   "mimetype": "text/x-python",
   "name": "python",
   "nbconvert_exporter": "python",
   "pygments_lexer": "ipython3",
   "version": "3.7.4"
  }
 },
 "nbformat": 4,
 "nbformat_minor": 2
}
